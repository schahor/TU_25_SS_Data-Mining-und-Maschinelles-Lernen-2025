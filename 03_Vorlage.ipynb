{
  "nbformat": 4,
  "nbformat_minor": 0,
  "metadata": {
    "colab": {
      "provenance": [],
      "include_colab_link": true
    },
    "kernelspec": {
      "name": "python3",
      "display_name": "Python 3"
    },
    "language_info": {
      "name": "python"
    }
  },
  "cells": [
    {
      "cell_type": "markdown",
      "metadata": {
        "id": "view-in-github",
        "colab_type": "text"
      },
      "source": [
        "<a href=\"https://colab.research.google.com/github/schahor/TU_25_SS_Data-Mining-und-Maschinelles-Lernen-2025/blob/main/03_Vorlage.ipynb\" target=\"_parent\"><img src=\"https://colab.research.google.com/assets/colab-badge.svg\" alt=\"Open In Colab\"/></a>"
      ]
    },
    {
      "cell_type": "code",
      "execution_count": null,
      "metadata": {
        "id": "mEHFUTHoheSd"
      },
      "outputs": [],
      "source": [
        "# Importieren der benötigten Libraries\n",
        "import matplotlib.pyplot as plt\n",
        "import numpy as np\n",
        "import pandas as pd\n",
        "import seaborn as sns\n",
        "import sklearn\n",
        "from sklearn import datasets\n",
        "from sklearn.ensemble import RandomForestClassifier, RandomForestRegressor\n",
        "from sklearn.metrics import (confusion_matrix, mean_absolute_error,\n",
        "                             mean_squared_error, mean_squared_log_error,\n",
        "                             median_absolute_error, precision_recall_curve,\n",
        "                             r2_score, roc_auc_score, roc_curve)\n",
        "from sklearn.model_selection import cross_val_predict\n",
        "from sklearn.naive_bayes import GaussianNB"
      ]
    },
    {
      "cell_type": "markdown",
      "source": [
        "\n",
        "# Aufgabe 3.2 Precision, Recall und Accuracy"
      ],
      "metadata": {
        "id": "EjG3UMGOiRHS"
      }
    },
    {
      "cell_type": "markdown",
      "source": [
        "Wir verwenden hier das [Breast Cancer Wisconsin (Diagnostic) Data Set](https://scikit-learn.org/stable/modules/generated/sklearn.datasets.load_breast_cancer.html). Die Merkmale werden aus einem digitalisierten Bild eines Feinnadelaspirats (FNA) einer Brustmasse berechnet. Sie beschreiben die Merkmale der im Bild vorhandenen Zellkerne."
      ],
      "metadata": {
        "id": "R176R6CeCudk"
      }
    },
    {
      "cell_type": "code",
      "source": [
        "# Features im Dataset\n",
        "datasets.load_breast_cancer().feature_names"
      ],
      "metadata": {
        "colab": {
          "base_uri": "https://localhost:8080/"
        },
        "id": "fU6gn6bQC-Rp",
        "outputId": "1a2380d4-9d10-4e82-8a9c-5802c8832a77"
      },
      "execution_count": null,
      "outputs": [
        {
          "output_type": "execute_result",
          "data": {
            "text/plain": [
              "array(['mean radius', 'mean texture', 'mean perimeter', 'mean area',\n",
              "       'mean smoothness', 'mean compactness', 'mean concavity',\n",
              "       'mean concave points', 'mean symmetry', 'mean fractal dimension',\n",
              "       'radius error', 'texture error', 'perimeter error', 'area error',\n",
              "       'smoothness error', 'compactness error', 'concavity error',\n",
              "       'concave points error', 'symmetry error',\n",
              "       'fractal dimension error', 'worst radius', 'worst texture',\n",
              "       'worst perimeter', 'worst area', 'worst smoothness',\n",
              "       'worst compactness', 'worst concavity', 'worst concave points',\n",
              "       'worst symmetry', 'worst fractal dimension'], dtype='<U23')"
            ]
          },
          "metadata": {},
          "execution_count": 45
        }
      ]
    },
    {
      "cell_type": "code",
      "source": [
        "# Labels im Dataset\n",
        "datasets.load_breast_cancer().target_names"
      ],
      "metadata": {
        "colab": {
          "base_uri": "https://localhost:8080/"
        },
        "id": "mACHgNOzDC22",
        "outputId": "7571d118-e1a6-487e-e0b0-05d90a93f8ac"
      },
      "execution_count": null,
      "outputs": [
        {
          "output_type": "execute_result",
          "data": {
            "text/plain": [
              "array(['malignant', 'benign'], dtype='<U9')"
            ]
          },
          "metadata": {},
          "execution_count": 47
        }
      ]
    },
    {
      "cell_type": "code",
      "source": [
        "# Load Data\n",
        "X, y = datasets.load_breast_cancer(return_X_y=True)\n",
        "X_train, y_train = X[:int(0.8*len(X))], y[:int(0.8*len(y))]\n",
        "X_test, y_test = X[int(0.8*len(X)):], y[int(0.8*len(y)):]\n",
        "\n",
        "# Train classifier\n",
        "clf = RandomForestClassifier(n_estimators=10, max_depth=1)\n",
        "clf.fit(X_train, y_train)\n",
        "y_scores = clf.predict_proba(X_test)"
      ],
      "metadata": {
        "id": "8ic1Wm2MnXHC"
      },
      "execution_count": null,
      "outputs": []
    },
    {
      "cell_type": "markdown",
      "source": [
        "## f) PR-Kurve (Precision-Recall Kurve)\n",
        "Die Optimierung auf Precision führt in der Regel zu einer Verringerung des Recalls und umgekehrt. Dies zeigt sich in einem PR-Kurvendiagramm wie im folgenden Beispiel, in dem wir einen RandomForestClassifier auf dem Brustkrebs-Datensatz ausführen. Die Datenpunkte für die PR-Kurve erhält man durch Berechnung der Precision und des Recall-Wertes für einen Satz von Schwellenwerten zwischen $0.0$ und $1.0$.\n",
        "\n",
        "Implementieren Sie die Funktion _plot\\_pr\\_curve_.\n",
        "Sie können dabei die Funktion [sklearn.metrics.precision_recall_curve](https://scikit-learn.org/stable/modules/generated/sklearn.metrics.precision_recall_curve.html) verwenden."
      ],
      "metadata": {
        "id": "8eFj5-KdioKJ"
      }
    },
    {
      "cell_type": "code",
      "source": [
        "def plot_pr_curve(y: np.ndarray, y_scores: np.ndarray):\n",
        "    \"\"\"Zeichnet die Kurve für die Precision und den Recall für die wahren Klassenlabels y und die vorhergesagten Labels mit ihrer Wahrscheinlichkeit\"\"\""
      ],
      "metadata": {
        "id": "I8c4Dr2BiqRC"
      },
      "execution_count": null,
      "outputs": []
    },
    {
      "cell_type": "code",
      "source": [
        "plot_pr_curve(y_test, y_scores)"
      ],
      "metadata": {
        "id": "xoG1LHn6xj_b"
      },
      "execution_count": null,
      "outputs": []
    },
    {
      "cell_type": "markdown",
      "source": [
        "## g) ROC-Kurve (Receiver Operating Characteristic)\n",
        "Implementieren Sie die Funktion _plot\\_roc\\_curve_ um die ROC-Kurve zu visualisieren. Geben Sie im Plot-Titel den zugehörigen AUC-Wert an.\n",
        "Sie können dabei die Funktionen [sklearn.metrics.roc_curve](https://scikit-learn.org/stable/modules/generated/sklearn.metrics.roc_curve.html) und [sklearn.metrics.roc_auc_score](https://scikit-learn.org/stable/modules/generated/sklearn.metrics.roc_auc_score.html) verwenden.\n"
      ],
      "metadata": {
        "id": "yrvaSZEr1tHm"
      }
    },
    {
      "cell_type": "code",
      "source": [
        "def plot_roc_curve(y, y_scores):\n",
        "    \"\"\"Zeichnet die Receiver-Operating-Characteristic-Kurve für die wahren Klassenlabels y und die vorhergesagten Labels mit ihrer Wahrscheinlichkeit\"\"\""
      ],
      "metadata": {
        "id": "873695tTyLCs"
      },
      "execution_count": null,
      "outputs": []
    },
    {
      "cell_type": "code",
      "source": [
        "plot_roc_curve(y_test, y_scores)"
      ],
      "metadata": {
        "id": "_oQ6lJy72dlE"
      },
      "execution_count": null,
      "outputs": []
    },
    {
      "cell_type": "markdown",
      "source": [
        "## h) Confusion Matrix\n",
        "\n",
        "Zeigen Sie die Konfusionsmatrix über die Funktion _plot\\_confusion\\_matrix_ an.\n",
        "Sie können dabei die Funktionen[sklearn.metrics.confusion_matrix](https://scikit-learn.org/stable/modules/generated/sklearn.metrics.confusion_matrix.html) und [seaborn.heatmap](https://seaborn.pydata.org/generated/seaborn.heatmap.html) verwenden.\n"
      ],
      "metadata": {
        "id": "ZOiyz8-E37op"
      }
    },
    {
      "cell_type": "code",
      "source": [
        "def plot_confusion_matrix(y_test: np.ndarray, y_scores: np.ndarray, threshold: int):\n",
        "    \"\"\"Zeichnet die Konfusionsmatrix für die wahren Labels y und die vorhergesagten Labels y_pred\"\"\""
      ],
      "metadata": {
        "id": "UyCbbIuT2vpF"
      },
      "execution_count": null,
      "outputs": []
    },
    {
      "cell_type": "code",
      "source": [
        "plot_confusion_matrix(y_test, y_scores, 0.5)"
      ],
      "metadata": {
        "id": "_uOERUKJ57fL"
      },
      "execution_count": null,
      "outputs": []
    },
    {
      "cell_type": "markdown",
      "source": [
        "# Aufgabe 3.3 Fehlermetriken der Regression"
      ],
      "metadata": {
        "id": "SzPG40Am7B2N"
      }
    },
    {
      "cell_type": "markdown",
      "source": [
        "## a) Metrikevaluierung\n",
        "Evaluieren Sie die oben beschriebenen Metriken in der Funktion _evaluate\\_metric_.\n",
        "Wenden Sie dabei zunächst eine 5-fache Kreuzvalidierung mittels [sklearn.model_selection.cross_val_predict.html](https://scikit-learn.org/stable/modules/generated/sklearn.model_selection.cross_val_predict.html) an und werten Sie anschließend die Metrik über die Parameterübergabe von _y\\_true_ und _y\\_pred_ aus.\n",
        "\n",
        "Wir werden hierzu den [California Housing Prices Datensatz](https://scikit-learn.org/stable/modules/generated/sklearn.datasets.fetch_california_housing.html) verwenden. Die Daten enthalten Informationen aus der Volkszählung von 1990 in Kalifornien. Auch wenn sie Ihnen nicht bei der Vorhersage aktueller Immobilienpreise helfen können, bieten sie doch einen zugänglichen Einführungsdatensatz für die Vermittlung der Grundlagen des maschinellen Lernens.\n",
        "\n",
        "Als Modell dient hierzu ein [RandomForestRegressor](https://scikit-learn.org/stable/modules/generated/sklearn.ensemble.RandomForestRegressor.html) Modell. Dieses konstruiert ein Ensemble von mehreren Regression Tree Modellen und liefert den Mittelwert der Vorhersagen der einzelnen Modelle."
      ],
      "metadata": {
        "id": "yVqdEXz37YW8"
      }
    },
    {
      "cell_type": "code",
      "source": [
        "# Load boston house pricing dataset\n",
        "X, y = datasets.fetch_california_housing(return_X_y=True)\n",
        "print(X.shape, y.shape)"
      ],
      "metadata": {
        "colab": {
          "base_uri": "https://localhost:8080/"
        },
        "id": "CDsE5sUQ7uX2",
        "outputId": "e833f5b5-8bb1-45f5-a816-3c707c41f00f"
      },
      "execution_count": null,
      "outputs": [
        {
          "output_type": "stream",
          "name": "stdout",
          "text": [
            "(20640, 8) (20640,)\n"
          ]
        }
      ]
    },
    {
      "cell_type": "code",
      "source": [
        "print('Features:\\t', datasets.fetch_california_housing().feature_names)\n",
        "print('Target:\\t\\t', datasets.fetch_california_housing().target_names)"
      ],
      "metadata": {
        "colab": {
          "base_uri": "https://localhost:8080/"
        },
        "id": "m-R8sVgt9RKu",
        "outputId": "5f27ece1-8235-42d5-e3e4-dbe007eee6ba"
      },
      "execution_count": null,
      "outputs": [
        {
          "output_type": "stream",
          "name": "stdout",
          "text": [
            "Features:\t ['MedInc', 'HouseAge', 'AveRooms', 'AveBedrms', 'Population', 'AveOccup', 'Latitude', 'Longitude']\n",
            "Target:\t\t ['MedHouseVal']\n"
          ]
        }
      ]
    },
    {
      "cell_type": "code",
      "source": [
        "# define regression model (Random Forest Regressor)\n",
        "model = RandomForestRegressor(n_estimators=10)"
      ],
      "metadata": {
        "id": "goT0G6GJ-UQZ"
      },
      "execution_count": null,
      "outputs": []
    },
    {
      "cell_type": "code",
      "source": [
        "def evaluate_metric(X: np.ndarray, y: np.ndarray, clf: sklearn.base.BaseEstimator, metric:  staticmethod.__func__) -> float:\n",
        "  \"\"\"Führt eine 5-fold cross validation durch und evaluiert mithilfe der übergebenen Metrik.\"\"\"\n",
        "  return err"
      ],
      "metadata": {
        "id": "IzI-0kHG6htM"
      },
      "execution_count": null,
      "outputs": []
    },
    {
      "cell_type": "code",
      "source": [
        "# define custom RMSE implementation (not available in sklearn)\n",
        "def root_mean_squared_errror(y_true, y_pred):\n",
        "  return rmse"
      ],
      "metadata": {
        "id": "1HHbfKRqAOaL"
      },
      "execution_count": null,
      "outputs": []
    },
    {
      "cell_type": "code",
      "source": [
        "# Evaluate predictions w.r.t. the above metrics\n",
        "print(f\"{'Metric':<24}{'Score':>6}\")\n",
        "print(\"-\" * 30)\n",
        "\n",
        "# define list of tuples containing the metric and its name\n",
        "for metric, name in [\n",
        "    (mean_absolute_error, \"Mean Absolute Error\"),\n",
        "    (mean_squared_error, \"Mean Squared Error\"),\n",
        "    (root_mean_squared_errror, \"Root Mean Squared Error\"),\n",
        "    (mean_squared_log_error, \"Mean Log Squared Error\"),\n",
        "    (median_absolute_error, \"Median Absolute Error\"),\n",
        "    (r2_score, \"R2 Score\")]:\n",
        "\n",
        "    # evaluate with metric\n",
        "    err = evaluate_metric(X, y, model, metric)\n",
        "\n",
        "    # print out results (formatted)\n",
        "    print(f\"{name:<24}{err: >6.2f}\")"
      ],
      "metadata": {
        "id": "4n-9NYPF-14s"
      },
      "execution_count": null,
      "outputs": []
    }
  ]
}