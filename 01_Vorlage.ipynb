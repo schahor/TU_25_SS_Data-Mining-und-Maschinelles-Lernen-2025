{
  "nbformat": 4,
  "nbformat_minor": 0,
  "metadata": {
    "colab": {
      "provenance": [],
      "include_colab_link": true
    },
    "kernelspec": {
      "name": "python3",
      "display_name": "Python 3"
    },
    "language_info": {
      "name": "python"
    }
  },
  "cells": [
    {
      "cell_type": "markdown",
      "metadata": {
        "id": "view-in-github",
        "colab_type": "text"
      },
      "source": [
        "<a href=\"https://colab.research.google.com/github/schahor/TU_25_SS_Data-Mining-und-Maschinelles-Lernen-2025/blob/main/01_Vorlage.ipynb\" target=\"_parent\"><img src=\"https://colab.research.google.com/assets/colab-badge.svg\" alt=\"Open In Colab\"/></a>"
      ]
    },
    {
      "cell_type": "code",
      "execution_count": null,
      "metadata": {
        "id": "mEHFUTHoheSd"
      },
      "outputs": [],
      "source": [
        "# Importieren der benötigten Libraries\n",
        "from sklearn.datasets import make_blobs, load_digits\n",
        "from sklearn.metrics import mean_squared_error\n",
        "import numpy as np\n",
        "import matplotlib.pyplot as plt\n",
        "import matplotlib.lines as lines"
      ]
    },
    {
      "cell_type": "markdown",
      "source": [
        "# Aufgabe 1.2 Klassifikation"
      ],
      "metadata": {
        "id": "EjG3UMGOiRHS"
      }
    },
    {
      "cell_type": "markdown",
      "source": [
        "## a) Datensatzerstellung\n",
        "Erstellen Sie einen synthetischen Datensatz zweier gaußverteilten Cluster.\n",
        "Der Datensatz soll dabei insgesamt *500 Stichproben* besitzen und die Clusterzentren in den Punkten *(−1.5, −1.5)* und *(1.5, 1.5)* liegen.\n",
        "Sie können hierfür die Funktion [sklearn.datasets.make_blobs](https://scikit-learn.org/stable/modules/generated/sklearn.datasets.make_blobs.html) verwenden. Eine Visualisierung der generierten Daten kann z.B. über [matplotlib.pyplit.scatter](https://matplotlib.org/stable/api/_as_gen/matplotlib.pyplot.scatter.html) vorgenommen werden."
      ],
      "metadata": {
        "id": "8eFj5-KdioKJ"
      }
    },
    {
      "cell_type": "code",
      "source": [
        "# Datensatz erstellen bestehend aus Datenpunkten X und Labels y\n"
      ],
      "metadata": {
        "id": "I8c4Dr2BiqRC"
      },
      "execution_count": null,
      "outputs": []
    },
    {
      "cell_type": "markdown",
      "source": [
        "## b) Einfache Vorhersage\n",
        "\n",
        "Unser Ziel ist es zu bestimmen, ob ein Datenpunkt der Klasse A ($\\hat{y}=0$) oder B ($\\hat{y}=1$) angehört. Aus der Betrachtung der Daten könnten wir einige handgeschriebene Regeln ableiten.\n",
        "Weisen Sie einen Datenpunkt der Klasse A in der Funktion ```predict_1(x)``` zu, wenn er sich im dritten Quadranten (unter der x-Achse und links der y-Achse) befindet.\n",
        "Alle anderen Punkte werden der Klasse B zugewiesen."
      ],
      "metadata": {
        "id": "bKPCQDDdo5qe"
      }
    },
    {
      "cell_type": "code",
      "source": [
        "# Prüfe ob der Datenpunkt x im dritten Quadranten liegt\n",
        "def predict_1(x: np.ndarray) -> int:\n"
      ],
      "metadata": {
        "id": "iLR4rVrwo5Tc"
      },
      "execution_count": null,
      "outputs": []
    },
    {
      "cell_type": "markdown",
      "source": [
        "Wir verwenden nun die definierte Funktion ```predict_1(x)``` um eine Vorhersage für jeden Datenpunkt $x\\in X$ zu treffen. Dies geschieht in diesem Fall über eine for-Schleife. Vorhersagen werden in einer Liste gesammelt und anschließend in ein Numpy-Array konvertiert, welches sich zur Berechnung von Metriken besser eignet.\n",
        "\n",
        "Hinweis: Bei größeren Datenmengen werden in der Regel die Datenpunkte nicht einzeln über Schleifen verarbeitet, sondern in größeren Gruppen, sogenannten Batches. Dies erhöht die Verarbeitungsgeschwindigkeit und lastet vorhandene Hardware besser aus."
      ],
      "metadata": {
        "id": "JKKUY6DM3qLo"
      }
    },
    {
      "cell_type": "code",
      "source": [
        "# Berechne Vorhersagen für alle Datenpunkte"
      ],
      "metadata": {
        "id": "5VPpHGlU3o-n"
      },
      "execution_count": null,
      "outputs": []
    },
    {
      "cell_type": "markdown",
      "source": [
        "## c) Genauigkeit\n",
        "Implementieren Sie die Funktion ```accuracy(y_true, y_pred)```, um die Genauigkeit unserer Vorhersagefunktion zu bestimmen."
      ],
      "metadata": {
        "id": "f8aZipyz1Ex2"
      }
    },
    {
      "cell_type": "code",
      "source": [
        "# Berechne die Genauigkeit (Accuracy) der Vorhersagen y_pred bzgl. den korrekten Labels y_true\n",
        "def accuracy(y_true: np.ndarray, y_pred: np.ndarray) -> float:\n"
      ],
      "metadata": {
        "id": "NUdxVAaH083h"
      },
      "execution_count": null,
      "outputs": []
    },
    {
      "cell_type": "markdown",
      "source": [
        "## d) Verbesserte Vorhersage\n",
        "\n",
        "Wir können nun die Vorhersagefunktion verfeinern und z.B. sagen, dass alles unterhalb der Diagonalen ($-x_0 = x_1$) zur Klasse A gehört und sonst zur Klasse B. Implementieren Sie diese Regel in der Funktion ```predict_2(x)```.\n"
      ],
      "metadata": {
        "id": "3Ov1pc2OKoQz"
      }
    },
    {
      "cell_type": "code",
      "source": [
        "# Implementiere die verbesserte Vorhersagefunktion\n",
        "def predict_2(x: np.ndarray) -> float:\n"
      ],
      "metadata": {
        "id": "26S9EnxjK2O-"
      },
      "execution_count": null,
      "outputs": []
    },
    {
      "cell_type": "markdown",
      "source": [
        "# Aufgabe 1.3 Regression\n",
        "\n",
        "Bei einer Regressionsaufgabe (mit einer Zielvariable) ist die Zielvariable kontinuierlich\n",
        "($y_i \\in \\mathbb{R}$).\n",
        "Dies unterscheidet sich sehr von der früheren Klassifizierungsstruktur, da wir jetzt nicht einfach unsere Daten in Klassen trennen und Entscheidungsgrenzen finden können, um die Klassen zu trennen.\n",
        "\n",
        "Ein einfaches Beispiel ist die lineare Regression, bei der wir annehmen, dass die Daten $\\mathbf{x_i}$\n",
        "linear mit der Zielvariablen\n",
        "$y_i$\n",
        "korreliert sind, wobei wir Koeffizienten $\\beta_0, \\dots, \\beta_{K} \\in \\mathbb{R}$ verwenden:\n",
        "\\begin{equation}\n",
        "     y_i = \\beta_0 + \\beta_1 x_i^1 + \\beta_2 x_i^2 + \\dots + \\beta_{K} x_i^{K}\n",
        "\\end{equation}\n",
        "\n",
        "und der Superskript den jeweiligen Eingangsvariablen-Index beschreibt.\n",
        "\n",
        "Für den zweidimensionalen Fall reduziert sich dies auf den klassischen Fall\n",
        "$ y_i = \\beta_0 + \\beta_1x_i$."
      ],
      "metadata": {
        "id": "ifbeEwrbI03c"
      }
    },
    {
      "cell_type": "code",
      "source": [
        "np.random.seed(42) # Seed setzen, damit Datengenerierung deterministisch ist\n",
        "data = np.random.multivariate_normal(mean=[5, 5], cov=[[3, 8], [4, 8]], size=500)\n",
        "outlier = np.random.multivariate_normal(mean=[7, 17], cov=[[2, 1], [1, 2]], size=50)\n",
        "X = np.concatenate([data[:, 0], outlier[:, 0]]) # Interpretiere erste Dimension als unabhängige Variable (Daten)\n",
        "y = np.concatenate([data[:, 1], outlier[:, 1]]) # Interpretiere zweite Dimension als abhängige Variable (Vorhersagewert)"
      ],
      "metadata": {
        "colab": {
          "base_uri": "https://localhost:8080/"
        },
        "id": "gxP1SHb94SUe",
        "outputId": "59b3c707-fa6a-4e66-c2fc-a387e6a3a559"
      },
      "execution_count": null,
      "outputs": [
        {
          "output_type": "stream",
          "name": "stderr",
          "text": [
            "<ipython-input-3-64d081034048>:2: RuntimeWarning: covariance is not positive-semidefinite.\n",
            "  data = np.random.multivariate_normal(mean=[5, 5], cov=[[3, 8], [4, 8]], size=500)\n"
          ]
        }
      ]
    },
    {
      "cell_type": "markdown",
      "source": [
        "## a) Datensatzvisualisierung\n",
        "\n",
        "Schreiben Sie eine Methode ```visualize_data(X, y)```, um den generierten Datensatz als Scatter-Plot zu visualisieren.. Verwenden Sie dabei die [Matplotlib](https://matplotlib.org/stable/index.html) Bibliothek und beschriften Sie die x- und y-Achse."
      ],
      "metadata": {
        "id": "sWfFq_D6I8RT"
      }
    },
    {
      "cell_type": "code",
      "source": [
        "# Visualisieurng der Datenpunkte als Scatter-Plot\n",
        "def visualize_data(X: np.ndarray, y: np.ndarray) -> None:\n"
      ],
      "metadata": {
        "id": "gzPYMh5iJIbc"
      },
      "execution_count": null,
      "outputs": []
    },
    {
      "cell_type": "markdown",
      "source": [
        "## b) Regressionsermittlung\n",
        "\n",
        "Die Regressionskoeffizienten können über folgende Formal bestimmt werden: $\\mathbf{\\hat{\\beta}} =\n",
        "( \\mathbf{X'}^T \\mathbf{X'})^{-1} \\mathbf{X'}^T\\mathbf{y} \\, ,\n",
        "$\n",
        "wobei $\\mathbf{X}$ um eine Spalte mit Einsen ergänzt wird ($\\mathbf{X'} = [\\mathbf{1}, \\mathbf{X}]$), um die Verschiebung an der y-Achse $\\beta_0$ zu berücksichtigen.\n",
        "\n",
        "\n",
        "Berechnen Sie in ```perform_linear_regression()``` die Regressionskoeffizienten\n",
        " $\\hat{\\beta}$ mithilfe der Methode der kleinsten Quadrate (KQ-Schätzer)."
      ],
      "metadata": {
        "id": "p4brqUBxS2du"
      }
    },
    {
      "cell_type": "code",
      "source": [
        "# Schätzen der Regressionsgeraden beta_hat\n",
        "def estimate_beta(X: np.ndarray, y: np.ndarray) -> np.ndarray:\n"
      ],
      "metadata": {
        "id": "weKVlo8qS1Qd"
      },
      "execution_count": null,
      "outputs": []
    },
    {
      "cell_type": "markdown",
      "source": [
        "## c) Vorhersage\n",
        "Neue Vorhersagen können wir nun wie folgt erhalten: $\\mathbf{\\hat{y}} = \\mathbf{X'} \\mathbf{\\hat{\\beta}} \\, .$\n",
        "\n",
        "Verwenden Sie das berechnete $\\hat{\\beta}$ und geben Sie in ```compute_predictions()``` für jeden Datenpunkt $\\mathbf{x_i}$ den zugehörigen Punkt auf der ermittelten Regressionsline $\\mathbf{\\hat{y_i}}$ an.\n"
      ],
      "metadata": {
        "id": "ACjc6FoDWbbZ"
      }
    },
    {
      "cell_type": "code",
      "source": [
        "# Berechnung der Vorhersagen mithilfe des Linearen Regressionsmodells\n",
        "def compute_predictions(X: np.ndarray, beta_hat: np.ndarray) -> np.ndarray:\n"
      ],
      "metadata": {
        "id": "ZJBo3-IFSqhj"
      },
      "execution_count": null,
      "outputs": []
    },
    {
      "cell_type": "markdown",
      "source": [
        "## d) Fehlerbewertung\n",
        "\n",
        "Berechnen Sie in der Funktion ```compute_mse()``` die mittlere quadratische Abweichung für die ermittelte Funktion zu den Datenpunkten."
      ],
      "metadata": {
        "id": "Rc4zWIXTX8Os"
      }
    },
    {
      "cell_type": "code",
      "source": [
        "# Berechne den Mean Squared Error (MSE)\n",
        "def compute_mse(y_true: np.ndarray, y_pred: np.ndarray) -> np.ndarray:\n"
      ],
      "metadata": {
        "id": "jfMWMN6nXpXC"
      },
      "execution_count": null,
      "outputs": []
    }
  ]
}