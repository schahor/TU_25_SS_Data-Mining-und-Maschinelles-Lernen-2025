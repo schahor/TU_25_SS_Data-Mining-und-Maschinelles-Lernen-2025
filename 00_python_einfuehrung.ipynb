{
  "cells": [
    {
      "cell_type": "markdown",
      "metadata": {
        "id": "view-in-github",
        "colab_type": "text"
      },
      "source": [
        "<a href=\"https://colab.research.google.com/github/schahor/TU_25_SS_Data-Mining-und-Maschinelles-Lernen-2025/blob/main/00_python_einfuehrung.ipynb\" target=\"_parent\"><img src=\"https://colab.research.google.com/assets/colab-badge.svg\" alt=\"Open In Colab\"/></a>"
      ]
    },
    {
      "cell_type": "markdown",
      "metadata": {
        "id": "sQM-U9xm5y5r"
      },
      "source": [
        "# 1.) Vorwort\n",
        "\n",
        "Der Inhalt dieses Notebooks basiert zu großen Teilen auf dem (gekürzten) Python Tutorial von [elab2go.de](https://www.elab2go.de/demo-py1/). Für zusätzliche Inhalte und Informationen verweisen wir gerne auf die entsprechende Webseite.\n",
        "\n",
        "Für den Rahmen der Veranstaltung empfehlen wir die Verwendung von [Google Colab](https://colab.research.google.com/), welches bereits alle für den Kurs notwendigen Bibliotheken mit sich bringt und als Cloud-Anwendung über den Browser ausgeführt werden kann. Zusätzlich stehen GPUs kostenlos zur Verfügung, welche später zum Training von Neuronalen Netzen eingesetzt werden, um den Trainingsprozess zu beschleunigen.\n",
        "\n",
        "Um Python lokal zu verwenden wird eine entsprechende Python-Installation benötigt. Diese wird für gängige Betriebssysteme unter [https://www.python.org/](https://www.python.org/) angeboten. Zusätzlich empfehlen wir für Machine Learning und Data Science Projekte die Installation von [Anaconda](https://www.anaconda.com/), welche gängige Pakete mit sich bringt. Es auch möglich den von Python mittgelieferten Paketmanager `pip` zu verwenden. Hierbei sollten Pakete innerhalb eines [Python Virtual Environments](https://docs.python.org/3/library/venv.html) installiert werden."
      ]
    },
    {
      "cell_type": "markdown",
      "metadata": {
        "id": "2moOk3bZ5y5x"
      },
      "source": [
        "## Jupyter Notebook\n",
        "\n",
        "Die Verwendung von [Jupyter Notebook](https://jupyter.org/) für den Einstieg hat den Vorteil, dass der Aufwand für die Installation einer Entwicklungsumgebung entfällt und man sich auf die Syntax der Sprache konzentrieren kann. Ein dokumentiertes Jupyter Notebook, das die wichtigsten Sprachkonstrukte mit Beispielen enthält, kann einfach geteilt werden, z.B. über Google Colab. Die Beispiele werden in separate Codezellen gespeichert und können in beliebiger Reihenfolge ausgeführt werden. Der Nachteil ist, dass die fortgeschrittene Funktionalität einer Entwicklungsumgebung (Syntax-Highlighting, Auto-Vervollständigung, Debuggen) hier häufig fehlen."
      ]
    },
    {
      "cell_type": "markdown",
      "metadata": {
        "id": "TarKm7x65y5y"
      },
      "source": [
        "## Visual Studio Code\n",
        "\n",
        "[Visual Studio Code (VSCode)](https://code.visualstudio.com/) ist eine minimalistische Entwicklungsumgebung von Microsoft, die plattformübergreifend unterschiedliche Programmiersprachen unterstützt, unter anderem auch Python, wobei hier die entsprechende Unterstützung durch Erweiterungen dazu installiert wird. Für dies Tutorial wurde insbesondere die [Jupyter-Erweiterung](https://marketplace.visualstudio.com/items?itemName=ms-toolsai.jupyter) installiert, um den Code in Codeblöcke strukturieren und diese getrennt in der interaktiven Konsole ausführen zu können. Die Entwicklung in Visual Studio Code ist ordnerbasiert, d.h. man legt einen Ordner an, und darin zusammengehörige Skripte."
      ]
    },
    {
      "cell_type": "markdown",
      "metadata": {
        "id": "08nnwEyH5y5y"
      },
      "source": [
        "# 2.) Erste Codezeilen in Python\n",
        "\n",
        "Ein Python-Programm kann auf verschiedene Arten erstellt und getestet werden:\n",
        "1. **Interaktiver Modus**: Der interaktive Modus erfolgt durch Eingabe der Python-Anweisungen in der Python-Befehlskonsole, dort erfolgt auch die Ausgabe. Dies ist nützlich für Tutorials, und um Programmteile zu testen. Um die Python-Befehlskonsole aufzurufen, unter Programme das Programm mit dem Namen Python auswählen.\n",
        "2. **Python-Skript**: Größere Python-Programme sind Sammlungen von Python-Skripten, die sich in demselben Ordner befinden und ein Programmpaket bilden. Ein Python-Skript oder Python-Modul ist dabei eine Datei mit der Endung .py, das die Anweisungen des Programms enthält und mit Hilfe von Funktionen und Klassen strukturiert werden kann. Wichtig: damit ein Verzeichnis zum Python-Paket wird, muss es eine Datei mit dem Namen \\_\\_init.py\\_\\_ enthalten, die leer sein kann.\n",
        "3. **Jupyter Notebook**: Für Tutorials oder interaktive Demos erstellen wir ein Jupyter Notebook, das die einzelnen Python-Anweisungen in Zellen strukturiert, die getrennt voneinander dokumentiert und ausgeführt werden können. Im Unterschied zum interaktiven Modus der Python-Befehlskonsole können Jupyter Notebooks besser für Demos, Lehre und Kollaboration verwendet werden."
      ]
    },
    {
      "cell_type": "markdown",
      "metadata": {
        "id": "VzdrXLKE5y5z"
      },
      "source": [
        "## 2.1) Hello World\n",
        "\n",
        "Das Hello-World-Programm ist das kleinste lauffähige Programm in Python und gibt den Text _\"Hello World\"_ auf der Konsole aus. Es verwendet für die Ausgabe die ```print```-Funktion, die als Parameter die Zeichenkette _\"Hello World\"_ erhält.\n",
        "In Python geht es auch einfacher: man kann wie in MATLAB oder R einfach den Namen einer Variablen oder eines Wertes in der Konsole eingeben und die ENTER-Taste drücken, dann wird der Inhalt der Variablen bzw. der Wert ausgegeben, auch ohne print.\n",
        "\n",
        "Für die Entwicklung größerer Programme werden die Python-Befehle mit Hilfe einer Entwicklungsumgebung in ein Python-Skript gespeichert, d.h. in eine Datei mit der Endung *.py, die alle Befehle und Funktionen des Programms enthält."
      ]
    },
    {
      "cell_type": "code",
      "execution_count": null,
      "metadata": {
        "id": "i850ie2N5y50",
        "outputId": "5158c1c0-5bb7-47c7-917b-3261cce43237",
        "colab": {
          "base_uri": "https://localhost:8080/"
        }
      },
      "outputs": [
        {
          "output_type": "stream",
          "name": "stdout",
          "text": [
            "blub\n"
          ]
        }
      ],
      "source": [
        "print('Hello World')"
      ]
    },
    {
      "cell_type": "markdown",
      "metadata": {
        "id": "JO-dOzNU5y52"
      },
      "source": [
        "## 2.2) Einrückungen in Python\n",
        "\n",
        "Python verwendet Einrückungen und Leerzeichen, um Codeblöcke zu definieren, d.h. zusammengehörige Befehle anzugeben. Dies ist ein signifikanter Unterschied zu Programmiersprachen wie C oder Java, bei denen die Einrückung (engl. Indentation) im Code nur der Lesbarkeit dient und Leerzeichen vom Compiler / Interpreter ignoriert werden.\n",
        "Der erste Code wird ausgeführt, beim zweiten wird eine Fehlermeldung ausgegeben, da die ```print```-Anweisung nicht eingerückt ist. Falls wir in Zeile 4 des ersten Codes vor der print-Anweisung ein Leerzeichen einfügen, wird auch hier ein Fehler auftreten (```\"IndentationError: unexpected indent\"```), da jede Anweisung des ```if```-Codeblocks um dieselbe Anzahl an Stellen eingerückt werden muss.\n",
        "\n",
        "Die korrekte Einrückung ist wichtig, sobald man mit mehrzeiligen Anweisungen, d.h. Verzweigungen, Schleifen und Funktionen arbeitet, die auch mehrzeilige Codeblöcke umschließen. Für die automatische Korrektur der Einrückung kann man Programmpakete wie autopep3 verwenden, die in alle Entwicklungsumgebungen eingebunden werden können.\n",
        "\n",
        "Einrückungen haben in Python eine syntaktische Bedeutung, sie bezeichnen einen Codeblock, d.h. eine Reihe zusammengehöriger Anweisungen. Dies ist anders als in C und Java, wo man geschweifte Klammen verwendet, um Codeblöcke zu kennzeichnen."
      ]
    },
    {
      "cell_type": "code",
      "execution_count": null,
      "metadata": {
        "id": "iVRD979Y5y53",
        "outputId": "bfa657c1-196b-48a9-d75c-00cafff63cd6",
        "colab": {
          "base_uri": "https://localhost:8080/"
        }
      },
      "outputs": [
        {
          "output_type": "stream",
          "name": "stdout",
          "text": [
            "Positiv!\n",
            "4 ist größer als 0\n"
          ]
        }
      ],
      "source": [
        "# Richtig: eingerückt\n",
        "if 4 > 0 :\n",
        "    print(\"Positiv!\")\n",
        "    print(\"4 ist größer als 0\")"
      ]
    },
    {
      "cell_type": "code",
      "execution_count": null,
      "metadata": {
        "id": "gfgIOUIu5y53",
        "outputId": "c1d59963-b870-49d1-8385-40d7f449ebc7",
        "colab": {
          "base_uri": "https://localhost:8080/",
          "height": 110
        }
      },
      "outputs": [
        {
          "output_type": "error",
          "ename": "IndentationError",
          "evalue": "expected an indented block after 'if' statement on line 2 (<ipython-input-5-2cc9a1e54dcc>, line 3)",
          "traceback": [
            "\u001b[0;36m  File \u001b[0;32m\"<ipython-input-5-2cc9a1e54dcc>\"\u001b[0;36m, line \u001b[0;32m3\u001b[0m\n\u001b[0;31m    print(\"4 ist größer als 0\")\u001b[0m\n\u001b[0m    ^\u001b[0m\n\u001b[0;31mIndentationError\u001b[0m\u001b[0;31m:\u001b[0m expected an indented block after 'if' statement on line 2\n"
          ]
        }
      ],
      "source": [
        "# Falsch: nicht eingerückt\n",
        "if 4 > 0 :\n",
        "print(\"4 ist größer als 0\")"
      ]
    },
    {
      "cell_type": "markdown",
      "metadata": {
        "id": "JBWX_Cws5y54"
      },
      "source": [
        "## 2.3) Kommentare in Python\n",
        "\n",
        "Python verfügt über Kommentarfunktionen für die Dokumentation des Codes. Kommentare werden nicht vom System ausgeführt, sondern dienen der besseren Lesbarkeit und Verständlichkeit von Quellcode. Einzeilige Kommentare beginnen mit einem \"#\"-Symbol gefolgt von Text. Mehrzeilige Kommentare müssen am Anfang und Ende von je drei doppelten Anführungsstrichen eingerahmt werden.\n",
        "\n",
        "Kommentare werden besonders wichtig, sobald größere Programme mit Funktionen und Klassen entwickelt werden. Bei der Verwendung von Funktionen sollte eine Kurzbeschreibung der Funktion, der Parameter und des Rückgabewertes angegeben werden. Dies geschieht, indem die Kommentare in die oben erwähnten drei doppelten Anführungsstrichen nach der Funktionssignatur geschrieben werden. Tut man dies, so wird bei Aufruf des Befehls ```help(funktionsname)``` der zuvor angegebene Funktionskommentar als Hilfe ausgegeben."
      ]
    },
    {
      "cell_type": "code",
      "execution_count": null,
      "metadata": {
        "colab": {
          "base_uri": "https://localhost:8080/",
          "height": 35
        },
        "id": "3YksZZUp5y54",
        "outputId": "c8886bd6-226f-4f70-8716-b17812900b8f"
      },
      "outputs": [
        {
          "data": {
            "text/plain": [
              "'\\nMehrzeiliger\\nKommentar\\n'"
            ]
          },
          "execution_count": 4,
          "metadata": {},
          "output_type": "execute_result"
        }
      ],
      "source": [
        "# Einzeiliger Kommentar\n",
        "# Noch ein Kommentar\n",
        "\n",
        "\"\"\"\n",
        "Mehrzeiliger\n",
        "Kommentar\n",
        "\"\"\""
      ]
    },
    {
      "cell_type": "code",
      "execution_count": null,
      "metadata": {
        "id": "82fBW8-w5y55",
        "outputId": "63f9e89b-3998-4d05-b203-ba38ef0c2416"
      },
      "outputs": [
        {
          "name": "stdout",
          "output_type": "stream",
          "text": [
            "Help on built-in function print in module builtins:\n",
            "\n",
            "print(...)\n",
            "    print(value, ..., sep=' ', end='\\n', file=sys.stdout, flush=False)\n",
            "    \n",
            "    Prints the values to a stream, or to sys.stdout by default.\n",
            "    Optional keyword arguments:\n",
            "    file:  a file-like object (stream); defaults to the current sys.stdout.\n",
            "    sep:   string inserted between values, default a space.\n",
            "    end:   string appended after the last value, default a newline.\n",
            "    flush: whether to forcibly flush the stream.\n",
            "\n"
          ]
        }
      ],
      "source": [
        "help(print)"
      ]
    },
    {
      "cell_type": "markdown",
      "metadata": {
        "id": "Dor0iLtJ5y55"
      },
      "source": [
        "# 3.)   Variablen und Datentypen\n",
        "\n",
        "Variablen sind benannte Speicherplätze, in denen die Daten des Programms gespeichert werden, z.B. ```name```, ```jahr```, ```x```, ```y```. Python-Variablen werden deklariert, sobald man ihnen einen Wert zuweist, z.B. ```x = 1```, ```name = \"HS KL\"```. Der Datentyp (ganze Zahl, Fließkommazahl, Zeichenkette etc.) der Variablen wird automatisch durch Python vergeben und kann mit Hilfe der type-Anweisung herausgefunden werden.\n",
        "\n",
        "Variablen können in Python ohne Angabe eines Datentyps verwendet werden, dies nennt man \"dynamische Typbindung\". Dies ist anders als in C oder Java, und ähnlich wie in R oder MATLAB."
      ]
    },
    {
      "cell_type": "code",
      "execution_count": null,
      "metadata": {
        "id": "UWbrDewq5y56",
        "outputId": "132baa8d-5d87-4253-91d3-2fb8b0d43ac5"
      },
      "outputs": [
        {
          "name": "stdout",
          "output_type": "stream",
          "text": [
            "HS KL \n",
            " 2022 \n",
            " 1 2\n"
          ]
        }
      ],
      "source": [
        "# name hat den Datentyp String\n",
        "name = \"HS KL\"\n",
        "# jahr hat den Datentyp Integer\n",
        "jahr = 2022\n",
        "# Zuweisungen: eine pro Zeile\n",
        "x = 1\n",
        "y = 2\n",
        "# oder mehrere in einer Zeile\n",
        "x, y = 1, 2 # x = 1, y = 2\n",
        "# Ausgabe der Variablen\n",
        "print(name, \"\\n\", jahr, \"\\n\", x, y)"
      ]
    },
    {
      "cell_type": "code",
      "execution_count": null,
      "metadata": {
        "id": "kBrc-Hja5y56",
        "outputId": "53868b88-2e40-426f-f272-cbb00d7d248c"
      },
      "outputs": [
        {
          "name": "stdout",
          "output_type": "stream",
          "text": [
            "True hat den Datentyp <class 'bool'>\n"
          ]
        }
      ],
      "source": [
        "# is_positive wird als Wahrheitswert ausgewertet\n",
        "is_positive = x > 0\n",
        "# Klasse herausfinden\n",
        "print(f\"{is_positive} hat den Datentyp {type(is_positive)}\")"
      ]
    },
    {
      "cell_type": "markdown",
      "metadata": {
        "id": "MQDgjxc15y57"
      },
      "source": [
        "## 3.1) Datentypen\n",
        "\n",
        "Python verwendet intern wie die Programmiersprachen C oder Java Datentypen für ganze Zahlen (int), Fließkommazahlen (float, double), Wahrheitswerte (bool), Zeichen und Zeichenketten (str), darüber hinaus Datenstrukturen für Listen und Mengen. Die Datentypen sind in die folgenden Kategorien integriert (hervorgehobene Datentypen sind für den Kurs wichtig):\n",
        "\n",
        "- Numerische Datentypen (engl. Numeric): *int*, *float*, complex\n",
        "- Boolesche Datentypen (engl. Boolean): *bool*\n",
        "- Zeichenketten (engl. Text): *str*\n",
        "- Binäre Datentypen (engl. Binary): bytes, bytearray, memoryview\n",
        "- Listen (engl. Sequences): *list*, *tuple*, *range*\n",
        "- Mappings: *dictionary*\n",
        "- Mengen (engl.Sets): *set*, frozenset\n",
        "\n",
        "Der Datentyp einer Variablen wird meist implizit bei Zuweisung eines Wertes festgelegt, er kann jedoch bei Bedarf auch explizit durch Typecasting angegeben werden, indem man den gewünschten Datentyp vor den Namen des Wertes schreibt und diesen in runde Klammern setzt, z.B. ```x = float(5)``` oder ```x = str(\"Hallo!\")```."
      ]
    },
    {
      "cell_type": "markdown",
      "metadata": {
        "id": "5p0fWzeJ5y57"
      },
      "source": [
        "## 3.2) Numerische Datentypen\n",
        "\n",
        "Es gibt in Python drei Hauptdatentypen für Zahlen: int (ganze Zahlen), float (Fließkommazahlen) und complex (komplexe Zahlen), sowie einen Datentyp Decimal für korrekt gerundete Fließpunktarithmetik. Der in Python eingebaute Datentyp float hat doppelte Genauigkeit und entspricht dem Datentyp double in C oder Java."
      ]
    },
    {
      "cell_type": "code",
      "execution_count": null,
      "metadata": {
        "id": "-izVuA8v5y57"
      },
      "outputs": [],
      "source": [
        "x = 5  # int\n",
        "pi = 3.14  # float\n",
        "# Komplexe Zahl z = 2 + 3 i\n",
        "z = complex(2, 3)\n",
        "\n",
        "# Typecasting\n",
        "x = int(pi)  # x = 3\n",
        "z = int(\"3\")  # z = 3"
      ]
    },
    {
      "cell_type": "markdown",
      "metadata": {
        "id": "JlDLbcCy5y58"
      },
      "source": [
        "## 3.3) String-Datentypen\n",
        "\n",
        "Der Datentyp String beschreibt Texte bzw. Zeichenketten (ein Text ist eine Zeichenkette, also eine Folge von Zeichen). Mit der Angabe eines Index, der bei 0 anfängt, kann man spezifische Zeichen aus der Zeichenkette auslesen. Es können auch negative Indizes verwendet werden, dann wird die Zeichenkette vom Ende durchlaufen. Für eine Zeichenkette ```x``` erhält man mit ```x[0]``` das erste Element, mit ```x[-1]``` das letzte Element, mit ```x[i:j]``` die Zeichen von ```i``` inklusive bis ```j``` exklusiv.\n",
        "\n",
        "Die Python-Dokumentation zu Strings beschreibt eine Reihe von Funktionen, mit denen man Zeichenketten in Python verarbeiten kann. Mit der Funktion ```len(x)``` wird die Länge einer Zeichenkette nachgefragt, also die Anzahl an Zeichen in dieser Kette. Mit der ```x.strip()```-Anweisung besteht die Möglichkeit, Leerzeichen am Anfang und am Ende einer Zeichenkette zu löschen."
      ]
    },
    {
      "cell_type": "code",
      "execution_count": null,
      "metadata": {
        "id": "pfXIk-Wn5y58",
        "outputId": "e37e4887-355b-4b78-bf94-5b105b002b91",
        "colab": {
          "base_uri": "https://localhost:8080/"
        }
      },
      "outputs": [
        {
          "output_type": "stream",
          "name": "stdout",
          "text": [
            "Hallo!\n",
            "H\n",
            "o\n",
            "6\n",
            "Hallo! Hallo!\n"
          ]
        }
      ],
      "source": [
        "x = \"Hallo!\"\n",
        "print(x)\n",
        "print(x[0]) # H\n",
        "print(x[-2]) # !\n",
        "print(len(x)) # 6\n",
        "print(x, x)"
      ]
    },
    {
      "cell_type": "markdown",
      "metadata": {
        "id": "g1iAN0lf5y58"
      },
      "source": [
        "## 3.4) Boolesche Datentypen\n",
        "\n",
        "Boolesche Datentypen können nur zwei Werte annehmen, ```True``` oder ```False```. In Python wird jede Zahl außer \"0\" als wahr, engl. \"True\", betrachtet und \"0\" wird als falsch, engl. \"False\", interpretiert. Generell wird jeder Wert mit Wahr bewertet, wenn er einen Inhalt enthält, egal ob String, Integer oder List. Boolesche Datentypen werden benötigt, wenn man auswerten muss, ob ein Ausdruck wahr oder falsch ist, zum Beispiel, wenn die Bedingung einer bedingten Verzweigung oder Schleife ausgewertet wird."
      ]
    },
    {
      "cell_type": "code",
      "execution_count": null,
      "metadata": {
        "id": "Id8apfJU5y58",
        "outputId": "4898c2da-ab6c-4c6b-a85c-0acd9e0dce4e",
        "colab": {
          "base_uri": "https://localhost:8080/"
        }
      },
      "outputs": [
        {
          "output_type": "stream",
          "name": "stdout",
          "text": [
            "False\n"
          ]
        }
      ],
      "source": [
        "x = True\n",
        "y = False\n",
        "print(6 > 5) # True\n",
        "print(6 == 4) # False\n",
        "b = 42 > 7 * 4 # Ergebnis wird in Variable gespeichert\n",
        "print(b)"
      ]
    },
    {
      "cell_type": "markdown",
      "metadata": {
        "id": "KpMhDCwU5y59"
      },
      "source": [
        "# 4.) Operatoren\n",
        "\n",
        "Mit Operatoren werden Operationen an Variablen und Werten ausgeführt. Python unterteilt die Operatoren in folgende Gruppen:\n",
        "\n",
        "- **Arithmetische Operatoren**: führen allgemeine mathematische Operationen aus.\n",
        "- **Zuweisungsoperatoren**: weisen Variablen Werte zu.\n",
        "- **Vergleichsoperatoren**: vergleichen zwei Werte.\n",
        "- **Logische Operatoren**: kombinieren logische Ausdrücke, die dann als wahr oder falsch ausgewertet werden.\n",
        "- **Identitätsoperatoren**: vergleichen Objekte\n",
        "- **Mitgliedsoperatoren**: prüfen, ob ein Objekt in einer Sequenz liegt.\n",
        "- **Bitweise Operatoren**: führen eine bitweise Verknüpfung der Operanden aus.\n",
        "\n",
        "Bei der Auswertung von Ausdrücken ist die Priorität der Operatoren zu beachten, ggf. sollte man Klammern verwenden."
      ]
    },
    {
      "cell_type": "markdown",
      "metadata": {
        "id": "DlH2mJ_e5y59"
      },
      "source": [
        "## 4.1) Arithmetische Operatoren\n",
        "\n",
        "Arithmetische Operatoren werden mit numerischen Werten verwendet, um allgemeine mathematische Operationen auszuführen."
      ]
    },
    {
      "cell_type": "code",
      "execution_count": null,
      "metadata": {
        "id": "nBshAkwp5y59",
        "outputId": "331a98aa-9a49-48f0-a5ef-576c7d0c7e85",
        "colab": {
          "base_uri": "https://localhost:8080/"
        }
      },
      "outputs": [
        {
          "output_type": "stream",
          "name": "stdout",
          "text": [
            "Summe: 13\n",
            "Multiplikation: 30\n",
            "Division: 3.3333333333333335\n",
            "Ganzzahlige Division: 3\n",
            "Modulo: 1\n",
            "Potenzierung: 1000\n"
          ]
        }
      ],
      "source": [
        "print('Summe:', 10 + 3)\n",
        "print('Multiplikation:', 10 * 3)\n",
        "print('Division:', 10 / 3)\n",
        "print('Ganzzahlige Division:', 10 // 3)\n",
        "print('Modulo:', 10 % 3)\n",
        "print('Potenzierung:', 10**3)"
      ]
    },
    {
      "cell_type": "markdown",
      "metadata": {
        "id": "L-eQn1BK5y59"
      },
      "source": [
        "## 4.2) Vergleichsoperatoren und logische Operatoren\n",
        "\n",
        "Vergleichsoperatoren und logische Operatoren werden zusammen verwendet, um Bedingungen zu formulieren, d.h. Ausdrücke, die als wahr oder falsch ausgewertet werden."
      ]
    },
    {
      "cell_type": "code",
      "execution_count": null,
      "metadata": {
        "id": "oN4HrCUi5y59",
        "outputId": "bb3e40a6-70be-4e68-c15d-667cca71d7db"
      },
      "outputs": [
        {
          "name": "stdout",
          "output_type": "stream",
          "text": [
            "a größer b? False\n",
            "a gleich b? False\n",
            "a ungleich b? True\n",
            "a kleiner gleich b? True\n"
          ]
        }
      ],
      "source": [
        "a = 10\n",
        "b = 20\n",
        "print('a größer b?', a > b)\n",
        "print('a gleich b?', a == b)\n",
        "print('a ungleich b?', a != b)\n",
        "print('a kleiner gleich b?', a <= b)"
      ]
    },
    {
      "cell_type": "markdown",
      "metadata": {
        "id": "tTGqIE9l5y5-"
      },
      "source": [
        "Logische Operatoren werden verwendet, um boolesche Ausdrücke zu kombinieren.\n",
        "P und Q stehen für logische Ausdrücke, z.B. P = (x > 10) und Q = (x < 20)."
      ]
    },
    {
      "cell_type": "code",
      "execution_count": null,
      "metadata": {
        "id": "r2-1YptF5y5-",
        "outputId": "13bee7c7-4edb-49c9-8741-f56677219e1a",
        "colab": {
          "base_uri": "https://localhost:8080/"
        }
      },
      "outputs": [
        {
          "output_type": "stream",
          "name": "stdout",
          "text": [
            "P und Q? True\n",
            "P und Q? True\n",
            "P oder Q? True\n",
            "P oder Q? True\n",
            "nicht Q? False\n"
          ]
        }
      ],
      "source": [
        "x = 14\n",
        "P = x > 10\n",
        "Q = x < 20\n",
        "\n",
        "print('P und Q?', P and Q)\n",
        "print('P und Q?', P & Q)\n",
        "print('P oder Q?', P | Q)\n",
        "print('P oder Q?', P or Q)\n",
        "print('nicht Q?', not Q)"
      ]
    },
    {
      "cell_type": "markdown",
      "metadata": {
        "id": "o0LTdy-X5y5-"
      },
      "source": [
        "# 5.) Konsolenausgabe\n",
        "\n",
        "Es gibt zwei Wege, um den Inhalt einer Variablen in Python unformatiert in die Konsole / Standardausgabe auszugeben.\n",
        "\n",
        "**1.) Schreibe den Namen der Variablen in eine neue Zeile**, ohne abschließendes Semikolon. Es wird stets nur die letzte Variable in einem Block ausgegeben! D.h. im Beispiel unten nur der Inhalt der Variablen ```y```.\n",
        "\n",
        "**2.) Verwende ```print()```-Funktion**. Diese Funktion akzeptiert als Argument eine Zeichenkette, Variable, ein Objekt oder eine Liste von Objekten, es können auch Separatoren angegeben werden. Mithilfe von f-Strings lassen sich die Inhalte von Variablen leichter auf der Konsole ausgeben und formatieren. Hierzu wird einem String ein ```f``` vorangestellt, z.B. ```print(f\"Der Wert von x ist: {x}\")``` gibt den aktuellen Wert der Variable ```x``` auf der Konsole aus."
      ]
    },
    {
      "cell_type": "code",
      "execution_count": null,
      "metadata": {
        "id": "YTILsdf05y5-"
      },
      "outputs": [],
      "source": [
        "# Nur die letzte Variable im Block wird ausgegeben\n",
        "x = 10\n",
        "y = 20\n",
        "x\n",
        "y"
      ]
    },
    {
      "cell_type": "code",
      "execution_count": null,
      "metadata": {
        "id": "pyEZKw3Q5y5-",
        "outputId": "52c09602-0410-4802-f710-e6ab25f955a2"
      },
      "outputs": [
        {
          "name": "stdout",
          "output_type": "stream",
          "text": [
            "Hallo\n",
            "3.14\n",
            "10 20\n",
            "x: 10 y: 20\n"
          ]
        }
      ],
      "source": [
        "print(\"Hallo\")\n",
        "pi = 3.14\n",
        "print(pi)\n",
        "x, y = 10, 20\n",
        "print(x, y)\n",
        "print(\"x:\", x, \"y:\", y)"
      ]
    },
    {
      "cell_type": "code",
      "execution_count": null,
      "metadata": {
        "id": "14jP18qh5y5-",
        "outputId": "ffc33318-d695-4d95-9cc8-b12b33512b70"
      },
      "outputs": [
        {
          "name": "stdout",
          "output_type": "stream",
          "text": [
            "x = 3\n",
            "y = 3.12\n"
          ]
        }
      ],
      "source": [
        "# f-Strings vereinfachten die Ausgabe von Variablen\n",
        "x = 3\n",
        "y = 3.12\n",
        "print(f\"x = {x}\")\n",
        "print(f\"y = {y:.2f}\") # gerundet auf zwei Nachkommastellen"
      ]
    },
    {
      "cell_type": "markdown",
      "metadata": {
        "id": "JN4CJ4_Z5y5_"
      },
      "source": [
        "# 6.) Bedingte Verzweigung\n",
        "\n",
        "Eine bedingte Verzweigung ist eine Kontrollstruktur, die festlegt, welcher von zwei (oder mehr) Anweisungsblöcken, abhängig von einer (oder mehreren) Bedingungen, ausgeführt wird. Bedingte Verzweigungen werden in Python wie in fast allen Programmiersprachen mit der ```if```-```else```-Anweisung beschrieben. Das Schlüsselwort ```elif``` in Python ist genau wie: \"Wenn die vorherigen Bedingungen nicht zutreffen, versucht es mit dieser Bedingung\" und das Schlüsselwort ```else``` fängt alles ab, was von den vorhergehenden Bedingungen nicht erfasst wird.\n",
        "\n",
        "Komplexere Bedingungen werden mit Hilfe von Vergleichsoperatoren und logischer Operatoren formuliert.\n",
        "\n",
        "In Python müssen Bedingungen der if-else-Anweisung nicht in runde Klammern gesetzt werden, jedoch muss der ```if```, ```elif```, oder ```else```-Teil der Anweisung mit einem Doppelpunkt beendet werden."
      ]
    },
    {
      "cell_type": "code",
      "execution_count": null,
      "metadata": {
        "id": "NEyDHH6X5y5_",
        "outputId": "5e3104b2-95e3-45c4-e27e-592e914932e4"
      },
      "outputs": [
        {
          "name": "stdout",
          "output_type": "stream",
          "text": [
            "1 < 4\n"
          ]
        }
      ],
      "source": [
        "x, y = 1, 4  # x = 1 und y = 4\n",
        "if x > y :\n",
        "  print(f'{x} > {y}')\n",
        "elif  x == y :\n",
        "  print(f'{x} == {y}')\n",
        "else :\n",
        "  print(f'{x} < {y}')"
      ]
    },
    {
      "cell_type": "markdown",
      "metadata": {
        "id": "UzgIzX225y5_"
      },
      "source": [
        "# 7.) Schleifen\n",
        "\n",
        "Schleifen ermöglichen es, Anweisungen wiederholt auszuführen, und zwar so lange, wie eine Ausführungsbedingung erfüllt ist. Python verfügt über zwei Schleifenbefehle: ```while```-Schleife und ```for```-Schleife. Um den Kontrollfluss in Schleifen zu steuern, werden zusätzlich zu der Ausführungsbedingung die Anweisungen ```break``` und ```continue``` eingesetzt. ```break``` ermöglicht es, jederzeit aus einer Schleife auszusteigen. ```continue``` ermöglicht es, einzelne Schleifenschritte auszusetzen."
      ]
    },
    {
      "cell_type": "markdown",
      "metadata": {
        "id": "cPxOnCjm5y5_"
      },
      "source": [
        "## 7.1) While-Schleifen\n",
        "\n",
        "Mit der ```while```-Schleife werden Anweisungen ausgeführt, solange eine Bedingung wahr ist.\n",
        "\n",
        "Beispiel: Berechne Summe 1+2+3+4+5 mit while-Schleife\n",
        "Dieses Beispiel zeigt, wie eine Schleife auf die klassische Art (wie in C) geschrieben wird.\n",
        "\n",
        "Zeile 2: Initialisiere Zählvariable i mit 1  \n",
        "Zeile 3: Prüfe Ausführungsbedingung i ≤ 5. Solange die Bedingung wahr ist, werden die Anweisungen des Schleifenrumpfs ausgeführt.  \n",
        "Zeile 4-6: Diese Zeilen enthalten die Anweisungen des Schleifenrumpfs, die zu wiederholen sind. Wichtig: Die Zugehörigkeit zum Schleifenblock wird durch die korrekte Einrückung sichergestellt.  \n",
        "Zeile 7: Ausgabe der Summe  "
      ]
    },
    {
      "cell_type": "code",
      "execution_count": null,
      "metadata": {
        "id": "VX5koS725y5_",
        "outputId": "ad27751e-d79c-4bc6-c88f-6c5659a5231d"
      },
      "outputs": [
        {
          "name": "stdout",
          "output_type": "stream",
          "text": [
            "+1\n",
            "+2\n",
            "+3\n",
            "+4\n",
            "+5\n",
            "Summe = 15\n"
          ]
        }
      ],
      "source": [
        "sum = 0\n",
        "i = 1\n",
        "while i <= 5:\n",
        "    print(\"+\" + str(i))  # Ausgabe der Zählvariablen\n",
        "    sum += i  # Addiere i zur Variable sum hinzu\n",
        "    i += 1  # Inkrementiere i\n",
        "print(\"Summe = \" + str(sum))"
      ]
    },
    {
      "cell_type": "markdown",
      "metadata": {
        "id": "EYuidVtE5y6A"
      },
      "source": [
        "## 7.2) For-Schleifen\n",
        "\n",
        "Mit der ```for```-Schleife iteriert man über die Elemente einer Sequenz (Liste, Tupel, Menge etc.). Die Syntax der for-Schleife erfordert zwingend, dass mit Hilfe des Mitgliedsoperators ```in``` über die Elemente einer Sequenz iteriert werden muss.\n",
        "\n",
        "for-Schleifen, die für eine Zählvariable eine Start- und Endebedingung und eine Schrittweite festlegen (wie in C, Java oder MATLAB), müssen in Python mit Hilfe der ```range()```-Funktion umgeschrieben werden, wie im Beispiel unten. Diese Art der for-Schleife wird in Python weniger oft benötigt, da man häufig mit Objekten arbeitet und wie im nächsten Beispiel 1 mit dem in-Operator über die Elemente einer Liste oder Menge iterieren kann."
      ]
    },
    {
      "cell_type": "markdown",
      "metadata": {
        "id": "c_bIcR2T5y6A"
      },
      "source": [
        "### Beispiel 1: Gebe Elemente einer Studierenden-Liste aus\n",
        "Die Iteration über die Elemente einer Listen-Datenstruktur ist in Python die bevorzugte Art, Schleifen zu verwenden. Hierbei wird mit Hilfe des Mitgliedsoperators \"in\" die Mitgliedschaft eines Objektes zu einer Liste überprüft."
      ]
    },
    {
      "cell_type": "code",
      "execution_count": null,
      "metadata": {
        "id": "0vEvolVh5y6A",
        "outputId": "c4c8d55e-d7a6-4623-a9fc-b2102caee250"
      },
      "outputs": [
        {
          "name": "stdout",
          "output_type": "stream",
          "text": [
            "Student: Max Muster\n",
            "Student: Anna Test\n",
            "Student: John Doe\n"
          ]
        }
      ],
      "source": [
        "students = [\"Max Muster\", \"Anna Test\", \"John Doe\"]\n",
        "for std in students:\n",
        "    print(\"Student: \" +  std)"
      ]
    },
    {
      "cell_type": "markdown",
      "metadata": {
        "id": "3jVWqGFP5y6A"
      },
      "source": [
        "### Beispiel 2: Berechne Summe 1+2+3+4+5 mit for-Schleife\n",
        "\n",
        "Zeile 1: Initialisiere Variable sum mit 0  \n",
        "Zeile 2: Iteriere mit der Zählvariablen i über die Sequenz {1,2,3,4,5}, die mit Hilfe des Funktionsaufrufs range(1,6) erzeugt wird.  \n",
        "Zeile 3-4: Diese Zeilen enthalten die Anweisungen des Schleifenrumpfs  \n",
        "Zeile 5: Ausgabe der Summe  "
      ]
    },
    {
      "cell_type": "code",
      "execution_count": null,
      "metadata": {
        "id": "iGqLcTVd5y6A",
        "outputId": "02681327-6e6f-48b8-d765-650c93c3b9ea"
      },
      "outputs": [
        {
          "name": "stdout",
          "output_type": "stream",
          "text": [
            "+1\n",
            "+2\n",
            "+3\n",
            "+4\n",
            "+5\n",
            "Summe = 15\n"
          ]
        }
      ],
      "source": [
        "sum = 0\n",
        "for i in range(1, 6):\n",
        "    print(\"+\" + str(i))\n",
        "    sum += i\n",
        "print(\"Summe = \" + str(sum))"
      ]
    },
    {
      "cell_type": "markdown",
      "metadata": {
        "id": "NoKItT5j5y6B"
      },
      "source": [
        "# 8.) Datenstrukturen\n",
        "\n",
        "In der Python Standardbibliothek gibt es vier Datenstrukturen für Listen und Mengen: Listen (engl. lists), Tupel (engl. tuples), Mengen (engl. sets) und Dictionary (engl. dictionary). Python-Datenstrukturen können grundsätzlich unterschiedliche Datentypen enthalten, d.h. Objekte beliebigen Datentyps. Jedoch muss man bei der Durchführung von Operationen auf Elementen der Datenstruktur auf Kompatibilität achten. Die angeführten Python-Datenstrukturen unterscheiden sich darin, ob sie änderbar sind (oder nicht), geordnet sind (oder nicht), und Duplikate zulassen (oder nicht)."
      ]
    },
    {
      "cell_type": "markdown",
      "metadata": {
        "id": "qhvce__d5y6B"
      },
      "source": [
        "## 8.1) Listen\n",
        "\n",
        "Listen (engl. lists) sind Sammlungen von Objekten beliebigen Datentyps, die geordnet und änderbar sind. Sie erlauben doppelte Mitglieder und werden mit rechteckigen Klammern definiert. Listen­elemente werden wie im Beispiel unten über den Index ausgewählt. Listen sind vergleichbar mit Arrays in C oder Java. Mit dem Ausdruck ```lectures[1,3]``` werden alle Elemente mit Index ≥ 1 und < 3 ausgewählt (engl. \"Slicing\")."
      ]
    },
    {
      "cell_type": "code",
      "execution_count": null,
      "metadata": {
        "id": "RJXDzir85y6B",
        "outputId": "243e62c1-11f1-497a-f48b-bee9317c3100",
        "colab": {
          "base_uri": "https://localhost:8080/"
        }
      },
      "outputs": [
        {
          "output_type": "stream",
          "name": "stdout",
          "text": [
            "['math', 'programming', 'deep learning']\n",
            "Erstes Element (Index 0): math\n",
            "Zweites Element (Index 1): programming\n",
            "Letztes Element (Index -1): deep learning\n",
            "Vorletztes Element (Index -2): programming\n",
            "Erste beiden Elemente (Indizes 0 (inklusive) bis 2 (exklusive): ['math', 'programming']\n",
            "['math', 'help', 'deep learning']\n"
          ]
        }
      ],
      "source": [
        "# Definiere Liste mit Vorlesungen\n",
        "lectures = [\"math\", \"programming\", \"deep learning\"]\n",
        "print(lectures)\n",
        "print(\"Erstes Element (Index 0):\", lectures[0])\n",
        "print(\"Zweites Element (Index 1):\", lectures[1])\n",
        "print(\"Letztes Element (Index -1):\", lectures[-1])\n",
        "print(\"Vorletztes Element (Index -2):\", lectures[-2])\n",
        "print(\"Erste beiden Elemente (Indizes 0 (inklusive) bis 2 (exklusive):\", lectures[0:2])\n",
        "lectures[1] = \"help\"\n",
        "print(lectures)"
      ]
    },
    {
      "cell_type": "markdown",
      "metadata": {
        "id": "Bl8sCj6j5y6B"
      },
      "source": [
        "## 8.2) Tupel\n",
        "\n",
        "Tupel (engl. tuples) sind geordnete und unveränderbare Kollektionen, die verwendet werden, um zusammen­gehörende Datensätze (engl. records) zu speichern. Sie erlauben doppelte Mitglieder und werden mit runden Klammern definiert. Die Elemente eines Tupels können über ihren Index ausgewählt werden."
      ]
    },
    {
      "cell_type": "code",
      "execution_count": null,
      "metadata": {
        "id": "LxAAhETN5y6C",
        "outputId": "2bcf140b-de33-424b-af6d-2b67590fcf76"
      },
      "outputs": [
        {
          "name": "stdout",
          "output_type": "stream",
          "text": [
            "('HS KL', 'Schoenstrasse', 11)\n",
            "HS KL\n",
            "('Schoenstrasse', 11)\n",
            "11\n"
          ]
        },
        {
          "ename": "TypeError",
          "evalue": "'tuple' object does not support item assignment",
          "output_type": "error",
          "traceback": [
            "\u001b[0;31m---------------------------------------------------------------------------\u001b[0m",
            "\u001b[0;31mTypeError\u001b[0m                                 Traceback (most recent call last)",
            "Cell \u001b[0;32mIn[53], line 7\u001b[0m\n\u001b[1;32m      5\u001b[0m \u001b[38;5;28mprint\u001b[39m(adresse[\u001b[38;5;241m1\u001b[39m:\u001b[38;5;241m3\u001b[39m])  \u001b[38;5;66;03m# ('Schoenstrasse', 11)\u001b[39;00m\n\u001b[1;32m      6\u001b[0m \u001b[38;5;28mprint\u001b[39m(adresse[\u001b[38;5;241m-\u001b[39m\u001b[38;5;241m1\u001b[39m])  \u001b[38;5;66;03m# 11\u001b[39;00m\n\u001b[0;32m----> 7\u001b[0m \u001b[43madresse\u001b[49m\u001b[43m[\u001b[49m\u001b[38;5;241;43m0\u001b[39;49m\u001b[43m]\u001b[49m \u001b[38;5;241m=\u001b[39m \u001b[38;5;124m\"\u001b[39m\u001b[38;5;124mMorlauterer Strasse\u001b[39m\u001b[38;5;124m\"\u001b[39m  \u001b[38;5;66;03m#  Fehler, Elemente können nicht verändert werden!\u001b[39;00m\n",
            "\u001b[0;31mTypeError\u001b[0m: 'tuple' object does not support item assignment"
          ]
        }
      ],
      "source": [
        "# Tupel \"adresse\"\n",
        "adresse = (\"HS KL\", \"Schoenstrasse\", 11)\n",
        "print(adresse)\n",
        "print(adresse[0])  # HS KL\n",
        "print(adresse[1:3])  # ('Schoenstrasse', 11)\n",
        "print(adresse[-1])  # 11\n",
        "adresse[0] = \"Morlauterer Strasse\"  #  Fehler, Elemente können nicht verändert werden!"
      ]
    },
    {
      "cell_type": "markdown",
      "metadata": {
        "id": "Le1a7EXo5y6C"
      },
      "source": [
        "## 8.3) Mengen\n",
        "\n",
        "Mengen (engl. Sets) sind Sammlungen, die ungeordnet und nicht indiziert sind. Mengen erlauben keine doppelten Mitglieder. Da der Inhalt ungeordnet ist, kann man keinen Index für den Zugriff auf die Elemente benutzen. Eine Menge wird definiert, indem man ihre Elemente in geschweifte Klammern setzt, wie im Beispiel unten."
      ]
    },
    {
      "cell_type": "code",
      "execution_count": null,
      "metadata": {
        "id": "9ExrIxwI5y6C",
        "outputId": "4f5532cc-c64d-4da8-a744-e958bade02ca"
      },
      "outputs": [
        {
          "name": "stdout",
          "output_type": "stream",
          "text": [
            "{1, 2, 3, 4, 'b', 'a', 'c'}\n",
            "{3, 4, 5, 6, 'c'}\n",
            "{1, 2, 3, 4, 'b', 'a', 'c', 8}\n",
            "{3, 4, 5, 'c'}\n"
          ]
        }
      ],
      "source": [
        "# Mengen (Sets)\n",
        "menge1 = {1, 2, 3, 4, \"a\", \"b\", \"c\"}\n",
        "menge2 = {3, 4, 5, 6, \"c\"}\n",
        "print(menge1)\n",
        "print(menge2)\n",
        "menge1.add(8)  # neues Element hinzufügen\n",
        "menge2.discard(6)  #  Element löschen\n",
        "print(menge1)  # {1, 2, 3, 4, 8, 'a', 'b', 'c'}\n",
        "print(menge2)  # {3, 4, 5, 'c'}"
      ]
    },
    {
      "cell_type": "markdown",
      "metadata": {
        "id": "QMTcY-Zv5y6C"
      },
      "source": [
        "Alternativ kann eine Menge mit Hilfe der Funktion ```set``` definiert werden. Im Beispiel wird zunächst eine Liste deklariert, und aus der Liste dann eine Menge mit Hilfe der set-Funktion."
      ]
    },
    {
      "cell_type": "code",
      "execution_count": null,
      "metadata": {
        "id": "E-YQ0PPz5y6D"
      },
      "outputs": [],
      "source": [
        "list = [1, 2, 3] # Liste\n",
        "menge3 = set(list) # Menge"
      ]
    },
    {
      "cell_type": "markdown",
      "metadata": {
        "id": "fHbo5rLv5y6D"
      },
      "source": [
        "## 8.4) Dictionaries\n",
        "\n",
        "Dictionaries (Hashmaps) sind Sammlungen aus Schlüssel-Wert-Paaren, die ungeordnet und änderbar sind. Die Werte sind über Schlüsselwerte indexiert, die eindeutig sein müssen."
      ]
    },
    {
      "cell_type": "code",
      "execution_count": null,
      "metadata": {
        "id": "LverR0tf5y6D",
        "outputId": "bf137bc4-3a3d-4ae5-ff85-ff857f56763d",
        "colab": {
          "base_uri": "https://localhost:8080/"
        }
      },
      "outputs": [
        {
          "output_type": "stream",
          "name": "stdout",
          "text": [
            "{'Max Muster': '0171 876654', 'Anna Test': '0151 987654', 'hdgsafj': 11, 'hajs': {'x': 0}, (1, 2): 8}\n"
          ]
        }
      ],
      "source": [
        "# Dictionary (Hashmap)\n",
        "telefonbuch = {\"Max Muster\": \"0171 876654\", \"Anna Test\": \"0151 987654\", \"hdgsafj\": 11, \"hajs\": {\"x\": 0}, (1,2): 8}\n",
        "\n",
        "print(telefonbuch)\n",
        "\n",
        "# Neuen Wert hinzufügen\n",
        "#telefonbuch[\"John Doe\"] = \"0171 123456\"\n",
        "#print(telefonbuch)  # Telefonbuch ausgeben\n",
        "\n",
        "# Wertaufruf mit Schlüsselwert\n",
        "#annasNummer = telefonbuch.get(\"Anna Test\")\n",
        "#annasNummer = telefonbuch[\"Anna Test\"]\n",
        "#print(annasNummer)  # 0151 987654"
      ]
    },
    {
      "cell_type": "markdown",
      "metadata": {
        "id": "Bpax4RkK5y6D"
      },
      "source": [
        "# 9.) Funktionen in Python\n",
        "\n",
        "Eine Funktion ist ein Codeblock, der nur ausgeführt wird, wenn er aufgerufen wird. Funktionen werden einmal definiert und können dann beliebig oft aufgerufen werden. Man kann Daten oder sogenannte Parameter an eine Funktion übergeben. Eine Funktion kann auch Daten/Parameter zurückgeben. Damit eine Funktion Werte zurückgeben kann, benutzt man das Schlüsselwort \"return\". In Python enthält die Parameterliste üblicherweise eine festgelegte Anzahl an Parametern, es gibt jedoch auch die Möglichkeit, mittels ```*args``` oder ```**kwargs``` eine variable Anzahl an Parametern zu übergeben (wird hier nicht behandelt).\n",
        "\n",
        "Funktionen kommen auf zweierlei Arten zum Einsatz: zum einen verwendet man vorhandene Funktionen der Python-Pakete, um gewisse Aufgaben durchzuführen. Zum anderen entwickelt man eigene Funktionen für Teilaufgaben und strukturiert damit größere Programme.\n",
        "\n",
        "Funktionen werden definiert, indem man nach dem Schlüsselwort def den Namen der Funktion, und danach, in runde Klammern gesetzt, eine Parameterliste angibt. In den nachfolgenden Zeilen stehen die Anweisungen, die zum Codeblock der Funktion gehören. Diese müssen eingerückt sein. Funktionen werden verwendet bzw. aufgerufen, indem man ihren Namen angibt, gefolgt von der Liste der tatsächlichen Argumente, die in Anzahl und Reihenfolge mit der Parameterliste der Funktion übereinstimmen muss."
      ]
    },
    {
      "cell_type": "markdown",
      "metadata": {
        "id": "MLvSz6Jy5y6D"
      },
      "source": [
        "## 9.1) Funktion ohne Parameter\n",
        "\n",
        "Die Funktion mit dem Namen ```my_func()``` gibt bei jedem Aufruf den Text ```\"Hallo\"``` auf der Konsole aus. Die Parameterliste ist leer, d.h. zwischen den runden Klammern steht nichts."
      ]
    },
    {
      "cell_type": "code",
      "execution_count": null,
      "metadata": {
        "id": "AxiaHN7M5y6D",
        "outputId": "dbe01754-7778-4e5c-8e93-346b48186589"
      },
      "outputs": [
        {
          "name": "stdout",
          "output_type": "stream",
          "text": [
            "Hallo!\n",
            "Hallo!\n"
          ]
        }
      ],
      "source": [
        "# (1) Funktion definieren\n",
        "def my_func():\n",
        "    print(\"Hallo!\")\n",
        "\n",
        "# (2) Funktion verwenden\n",
        "my_func()\t# Ausgabe: Hallo!\n",
        "my_func()\t# Ausgabe: Hallo!"
      ]
    },
    {
      "cell_type": "markdown",
      "metadata": {
        "id": "ZuUs2sVH5y6D"
      },
      "source": [
        "## 9.2) Funktion mit Übergabe-Parameter\n",
        "Die Funktion mit dem Namen ```my_func()``` gibt ihre beiden Parameter auf der Konsole aus, getrennt durch \">>\". Jeder der Parameter darf ein beliebiges Objekt sein. Der Funktionsaufruf in Zeile 10 führt zu der Fehlermeldung ```\"TypeError: my_func() missing 1 required positional argument: 'text'\"```, da für den zweiten Parameter kein Wert übergeben wurde."
      ]
    },
    {
      "cell_type": "code",
      "execution_count": null,
      "metadata": {
        "id": "vCXTu6ch5y6E",
        "outputId": "25b81cf9-be2c-4b4f-9fcb-c0893478450a",
        "colab": {
          "base_uri": "https://localhost:8080/",
          "height": 257
        }
      },
      "outputs": [
        {
          "output_type": "stream",
          "name": "stdout",
          "text": [
            "1 >> Hallo\n",
            "2 >> zusammen!\n",
            "3 >> [1, 2, 3, 4]\n",
            "X >> 4\n"
          ]
        },
        {
          "output_type": "error",
          "ename": "TypeError",
          "evalue": "my_func() missing 1 required positional argument: 'text'",
          "traceback": [
            "\u001b[0;31m---------------------------------------------------------------------------\u001b[0m",
            "\u001b[0;31mTypeError\u001b[0m                                 Traceback (most recent call last)",
            "\u001b[0;32m<ipython-input-3-a15653067ea3>\u001b[0m in \u001b[0;36m<cell line: 10>\u001b[0;34m()\u001b[0m\n\u001b[1;32m      8\u001b[0m \u001b[0mmy_func\u001b[0m\u001b[0;34m(\u001b[0m\u001b[0;36m3\u001b[0m\u001b[0;34m,\u001b[0m \u001b[0;34m[\u001b[0m\u001b[0;36m1\u001b[0m\u001b[0;34m,\u001b[0m \u001b[0;36m2\u001b[0m\u001b[0;34m,\u001b[0m \u001b[0;36m3\u001b[0m\u001b[0;34m,\u001b[0m \u001b[0;36m4\u001b[0m\u001b[0;34m]\u001b[0m\u001b[0;34m)\u001b[0m  \u001b[0;31m# Ausgabe: 3 >> [1, 2, 3, 4]\u001b[0m\u001b[0;34m\u001b[0m\u001b[0;34m\u001b[0m\u001b[0m\n\u001b[1;32m      9\u001b[0m \u001b[0mmy_func\u001b[0m\u001b[0;34m(\u001b[0m\u001b[0;34m\"X\"\u001b[0m\u001b[0;34m,\u001b[0m \u001b[0;36m4\u001b[0m\u001b[0;34m)\u001b[0m  \u001b[0;31m# Ausgabe: X >> 4\u001b[0m\u001b[0;34m\u001b[0m\u001b[0;34m\u001b[0m\u001b[0m\n\u001b[0;32m---> 10\u001b[0;31m \u001b[0mmy_func\u001b[0m\u001b[0;34m(\u001b[0m\u001b[0;36m4\u001b[0m\u001b[0;34m)\u001b[0m  \u001b[0;31m# Fehler! Das zweite Argument fehlt\u001b[0m\u001b[0;34m\u001b[0m\u001b[0;34m\u001b[0m\u001b[0m\n\u001b[0m",
            "\u001b[0;31mTypeError\u001b[0m: my_func() missing 1 required positional argument: 'text'"
          ]
        }
      ],
      "source": [
        "# (1) Funktion definieren\n",
        "def my_func(nr, text):\n",
        "    print(nr, '>>', text)\n",
        "\n",
        "# (2) Funktion verwenden\n",
        "my_func(1, \"Hallo\")  # Ausgabe:  1 >> Hallo\n",
        "my_func(2, \"zusammen!\")  # Ausgabe: 2 >> zusammen!\n",
        "my_func(3, [1, 2, 3, 4])  # Ausgabe: 3 >> [1, 2, 3, 4]\n",
        "my_func(\"X\", 4)  # Ausgabe: X >> 4\n",
        "my_func(4)  # Fehler! Das zweite Argument fehlt"
      ]
    },
    {
      "cell_type": "markdown",
      "metadata": {
        "id": "fz1U_y5g5y6E"
      },
      "source": [
        "Funktion mit Standard-Übergabe-Parameter"
      ]
    },
    {
      "cell_type": "code",
      "execution_count": null,
      "metadata": {
        "id": "Q1JrMvId5y6E",
        "outputId": "3305bd48-053e-4163-8f77-0b6bd57f4293"
      },
      "outputs": [
        {
          "name": "stdout",
          "output_type": "stream",
          "text": [
            "kein Text übergeben\n",
            "Übergebener Wert\n",
            "Übergebener Wert\n"
          ]
        }
      ],
      "source": [
        "# (1) Funktion definieren\n",
        "def my_func(text=\"kein Text übergeben\"):\n",
        "    print(text)\n",
        "\n",
        "# (2) Funktion verwenden\n",
        "my_func()  # Ausgabe: kein Text übergeben\n",
        "my_func(\"Übergebener Wert\")  # Ausgabe: Übergebener Wert\n",
        "my_func(text=\"Übergebener Wert\")  # Ausgabe: Übergebener Wert"
      ]
    },
    {
      "cell_type": "markdown",
      "metadata": {
        "id": "tp0lJ8935y6E"
      },
      "source": [
        "## 8.3) Funktion mit Rückgabewert\n",
        "\n",
        "Eine Funktion kann auch Daten/Parameter als Rückgabewert zurückliefern, diese können in der aufrufenden Funktion in Berechnungen oder Ausgaben weiter verwendet werden. Damit eine Funktion einen Wert zurückgibt, wird das Schlüsselwort ```return``` verwendet."
      ]
    },
    {
      "cell_type": "code",
      "execution_count": null,
      "metadata": {
        "id": "E9QtZC5q5y6E",
        "outputId": "00045bca-d5b7-4540-9fa3-931ebf981149"
      },
      "outputs": [
        {
          "name": "stdout",
          "output_type": "stream",
          "text": [
            "8\n",
            "10\n"
          ]
        }
      ],
      "source": [
        "# (1) Funktion definieren\n",
        "def my_func(x):\n",
        "    return x * 2\n",
        "\n",
        "\n",
        "# (2) Funktion verwenden\n",
        "print(my_func(4))  # Ausgabe: 8\n",
        "print(my_func(5))  # Ausgabe: 10"
      ]
    },
    {
      "cell_type": "markdown",
      "metadata": {
        "id": "_hR2Ad1o5y6E"
      },
      "source": [
        "# 10.) Klassen und Vererbung\n",
        "\n",
        "Python ist eine objektorientierte Programmiersprache. Fast alles in Python ist ein Objekt inkl. seiner Eigenschaften und Methoden. Eine Klasse ist ein Objekt-Konstruktor zum Erstellen von Objekten der gleichen Klasse. In Python benutzt man für Klassendefinition das Schlüsselwort ```class```. Eine Methode einer Klasse ist eine Funktion, die innerhalb einer Klasse definiert wird und als ersten Parameter eine Referenz (```self```) auf die Instanz enthält, von der sie aufgerufen wurde.\n",
        "\n",
        "Eine Besonderheit bei der Verwendung von Membervariablen und Methoden einer Klasse in Python ist, dass bei interner Verwendung das Schlüsselwort ```self``` stets vorangestellt werden muss."
      ]
    },
    {
      "cell_type": "markdown",
      "metadata": {
        "id": "sAlfWHCa5y6F"
      },
      "source": [
        "## 10.1) Klassen in Python deklarieren\n",
        "\n",
        "Python-Klassen haben eine ```__init __ ()```-Methode, die implizit beim Erstellen eines neuen Klassenobjektes ausgeführt wird. Die ```__init __ ()```-Methode wird verwendet, um Objekteigenschaften zu setzen oder andere Vorgänge, die beim Erstellen des Objekts erforderlich sind, durchzuführen.\n",
        "\n",
        "Beispiel: Wir deklarieren eine Klasse ```Auto```, mit der wir neue Auto-Objekte erzeugen wollen. Ein Auto hat die Eigenschaften Hersteller und Modell und eine Methode ```ausgeben()```, die die Eigenschaften des Autos zu einer Zeichenkette zusammenbaut und ausgibt.\n",
        "\n",
        "Zeile 2-4: Die ```__init __ ()```-Funktion setzt aktuellen Werte für hersteller und modell. Der Parameter ```self``` ist eine Referenz auf die aktuelle Instanz der Klasse und wird für den Zugriff auf Variablen der Klasse verwendet. Der self-Parameter muss bei allen Methoden der Klasse als erster Parameter der Parameterliste angegeben werden.  \n",
        "Zeile 5-6: Die Methode ausgeben() erstellt eine Textausgabe aus den Eigenschaften des Klassenobjektes.  \n",
        "Zeile 8-10: Erstelle zwei neue Klassenobjekte und gebe sie aus.  \n",
        "Zeile 13-14: Lösche die Klassenobjekte. Mit dem Schlüsselwort ```del``` wird das Objekt zerstört und vom Speicher gelöscht."
      ]
    },
    {
      "cell_type": "code",
      "execution_count": null,
      "metadata": {
        "id": "1sfp-JUv5y6F",
        "outputId": "deae07c5-f9ac-4b29-f8d6-5f0cac12d941",
        "colab": {
          "base_uri": "https://localhost:8080/"
        }
      },
      "outputs": [
        {
          "output_type": "stream",
          "name": "stdout",
          "text": [
            "Hersteller: Audi, Modell: A3\n",
            "Hersteller: BMW, Modell: i3\n"
          ]
        }
      ],
      "source": [
        "class Auto:\n",
        "   def __init__(self, hersteller, modell):\n",
        "      self.hersteller = hersteller\n",
        "      self.modell = modell\n",
        "   def ausgeben(self):\n",
        "      print(\"Hersteller: \" + self.hersteller + \", Modell: \" + self.modell)\n",
        "\n",
        "# Erstelle neue Klassenobjekte, gebe sie aus, und lösche sie wieder\n",
        "my_auto1 = Auto(\"Audi\", \"A3\")\n",
        "my_auto2 = Auto(\"BMW\", \"i3\")\n",
        "my_auto1.ausgeben() # Ausgabe: Hersteller: Audi, Modell: A3\n",
        "my_auto2.ausgeben() # Ausgabe: Hersteller: BMW, Modell: i3\n",
        "del my_auto1\n",
        "del my_auto2"
      ]
    },
    {
      "cell_type": "markdown",
      "metadata": {
        "id": "Sl9t6OZa5y6F"
      },
      "source": [
        "# 11.) Python-Pakete verwenden und erstellen\n",
        "\n",
        "Python-Pakete sind Klassen- und Funktionsbibliotheken, d.h. Gruppierungen von Klassen und Funktionen für definierte Einsatzgebiete. Python-Pakete kommen auf zweierlei Arten zum Einsatz: zum einen verwendet man Funktionen vorhandener Pakete, um gewisse Aufgaben durchzuführen. Zum anderen entwickelt man eigene Funktionen für Teilaufgaben und strukturiert damit größere Programme."
      ]
    },
    {
      "cell_type": "markdown",
      "metadata": {
        "id": "8reX3-IY5y6F"
      },
      "source": [
        "Python verfügt über eine eingebaute Standardbibliothek (Python Standard Library), die direkt nach der Installation verfügbar sind, und viele grundlegende Funktionen schon enthält (mathematische Funktionen, Textverarbeitung, Systemfunktionen, Dateizugriff, Verschlüsselung etc.) Darüber hinaus gibt es eine Reihe von spezialisierten Python-Bibliotheken, die Funktionalität für Datenanalyse und Machine Learning oder Kryptografie Verfügung stellen. Um ein spezielles Python-Paket verwenden zu können, muss es zuvor installiert werden.\n",
        "\n",
        "**Wie werden Python-Bibliotheken bzw. Python-Pakete installiert?**  \n",
        "Python-Bibliotheken, die nach der Installation nicht schon dabei sind, können über die Paketverwaltungstools pip und conda einfach hinzu installiert werden. Das Paket­verwaltungstool pip funktioniert nur mit Python-Modulen, das erweiterte Paket­verwaltungs­tool conda kann auch verwendet werden, um Module in anderen Programmiersprachen zu laden, z.B. in der statistischen Programmiersprache R.\n",
        "\n",
        "Die beiden Tools werden über die Python-Konsole bedient. Die Syntax der Befehle ist ähnlich, z.B. ```pip list``` (```install```, ```uninstall```, ...). Zunächst die Verwendung von pip an einem Beispiel: Unten werden alle installierten Pakete angezeigt und danach werden das Paket Pandas sowie die neueste Version des Pakets Numpy installiert.\n",
        "\n",
        "```\n",
        "pip list\n",
        "pip install pandas\n",
        "pip install numpy --update\n",
        "```"
      ]
    },
    {
      "cell_type": "markdown",
      "metadata": {
        "id": "9vrFgESS5y6F"
      },
      "source": [
        "## 11.1) Wichtige Pakete für Data Mining und Machine Learning\n",
        "\n",
        "- NumPy - Arrays und Zufallszahlen\n",
        "- Matplotlib - Datenvisualisierung, Diagramme\n",
        "- Pandas - Datenverarbeitung für tabellenartige Daten, Series, DataFrames\n",
        "- Scikit-Learn- Machine Learning Algorithmen, Klassifikation, Regression\n",
        "- PyTorch - Künstliche Neuronale Netzwerke"
      ]
    },
    {
      "cell_type": "markdown",
      "metadata": {
        "id": "wPBp0CUe5y6F"
      },
      "source": [
        "Numpy ist eine Python-Bibliothek für Datenverwaltung und Datenvorbereitung, bietet Unterstützung für die Erzeugung, Umformung und Auswertung von Arrays und Zufallszahlen."
      ]
    },
    {
      "cell_type": "code",
      "execution_count": null,
      "metadata": {
        "id": "8McROUwA5y6F",
        "outputId": "624aa9bd-9339-40d7-d709-ec4da2a3f68a"
      },
      "outputs": [
        {
          "name": "stdout",
          "output_type": "stream",
          "text": [
            "x1: [1 2 3 4] \n",
            "x2: [1 2 3 4] \n",
            "x3: [0.  0.1 0.2 0.3 0.4 0.5 0.6 0.7 0.8 0.9 1. ]\n",
            "a1:\n",
            " [[1 2]\n",
            " [3 4]] \n",
            "a2:\n",
            " [[0. 0. 0.]\n",
            " [0. 0. 0.]]\n"
          ]
        }
      ],
      "source": [
        "# Importieren von Numpy unter dem Alias np\n",
        "import numpy as np\n",
        "\n",
        "# Eindimensionale Arrays\n",
        "x1 = np.array([1, 2, 3, 4])\n",
        "x2 = np.arange(1, 5, 1)  #\n",
        "x3 = np.arange(0, 1.1, 0.1)\n",
        "print('x1:', x1, '\\nx2:', x2, '\\nx3:', x3)\n",
        "\n",
        "# Zweidimensionale Arrays\n",
        "a1 = np.array([[1, 2], [3, 4]], )\n",
        "a2 = np.zeros((2, 3))\n",
        "print('a1:\\n', a1, '\\na2:\\n', a2)"
      ]
    }
  ],
  "metadata": {
    "colab": {
      "provenance": [],
      "include_colab_link": true
    },
    "kernelspec": {
      "display_name": "Python 3.10.6 64-bit",
      "language": "python",
      "name": "python3"
    },
    "language_info": {
      "codemirror_mode": {
        "name": "ipython",
        "version": 3
      },
      "file_extension": ".py",
      "mimetype": "text/x-python",
      "name": "python",
      "nbconvert_exporter": "python",
      "pygments_lexer": "ipython3",
      "version": "3.10.10"
    },
    "orig_nbformat": 4,
    "vscode": {
      "interpreter": {
        "hash": "916dbcbb3f70747c44a77c7bcd40155683ae19c65e1c03b4aa3499c5328201f1"
      }
    }
  },
  "nbformat": 4,
  "nbformat_minor": 0
}