{
  "nbformat": 4,
  "nbformat_minor": 0,
  "metadata": {
    "colab": {
      "provenance": [],
      "gpuType": "T4",
      "include_colab_link": true
    },
    "kernelspec": {
      "name": "python3",
      "display_name": "Python 3"
    },
    "language_info": {
      "name": "python"
    },
    "accelerator": "GPU"
  },
  "cells": [
    {
      "cell_type": "markdown",
      "metadata": {
        "id": "view-in-github",
        "colab_type": "text"
      },
      "source": [
        "<a href=\"https://colab.research.google.com/github/schahor/TU_25_SS_Data-Mining-und-Maschinelles-Lernen-2025/blob/main/09_Pytorch_Introduction.ipynb\" target=\"_parent\"><img src=\"https://colab.research.google.com/assets/colab-badge.svg\" alt=\"Open In Colab\"/></a>"
      ]
    },
    {
      "cell_type": "code",
      "execution_count": null,
      "metadata": {
        "id": "mEHFUTHoheSd"
      },
      "outputs": [],
      "source": [
        "import torch\n",
        "import torch.nn as nn\n",
        "import torchvision\n",
        "import torchvision.transforms as T\n",
        "import matplotlib.pyplot as plt"
      ]
    },
    {
      "cell_type": "markdown",
      "source": [
        "# PyTorch Einführung\n",
        "\n",
        "Machine-Learning Framework von Meta AI (Facebook), mittlerweile Teil der Linux Foundation. Kostenloses Open-Source Framework zum Training von Deep Learning Anwendungen.\n",
        "\n",
        "Hilfreiche Ressourcen:\n",
        "- [https://pytorch.org/](https://pytorch.org/)\n",
        "- [Training a Classifier Tutorial](https://pytorch.org/tutorials/beginner/blitz/cifar10_tutorial.html)"
      ],
      "metadata": {
        "id": "EjG3UMGOiRHS"
      }
    },
    {
      "cell_type": "markdown",
      "source": [
        "## Vorgehensweise\n",
        "\n",
        "1. Datensatz laden\n",
        "2. Architektur des Neuronalen Netzes festlegen\n",
        "3. Optimizerungsparameter festlegen\n",
        "4. Training des Netzwerkes\n",
        "5. Testen des trainierten Netzwerks"
      ],
      "metadata": {
        "id": "NXoH_mhlrnno"
      }
    },
    {
      "cell_type": "markdown",
      "source": [
        "## 1. Datensatz laden\n",
        "\n",
        "Für das Training verwenden wir hier den [Oxford Flowers 102](https://www.robots.ox.ac.uk/~vgg/data/flowers/102/) Datensatz, der Bilder von 102 Blumenarten enthält. Ziel ist die Erstellung eines Bildklassifikator zur Vorhersage der Blumenart. Zunächst definieren wir notwendige Transformationen, um die Bilder für das Neuronale Netz aufzubereiten. Hierzu transformieren wir jedes Bild in einen Tensor zur Verarbeitung (3D-Datenmatrix) und reduzieren die Größe aller Bilder auf 64x64. Zusätzlich transformieren wir den Wertebereich der Bilder von \\[0, 1\\] in den Bereiche \\[-1, 1\\]. Um die Anzahl an Trainingsdaten künstlich zu erhöhen, sogenannte Dataset Augmentation, fügen wir beim Training zusätzlich zufälliges horizontales Spiegeln der Bilder hinzu."
      ],
      "metadata": {
        "id": "FwuwMvelr3rd"
      }
    },
    {
      "cell_type": "code",
      "source": [
        "transform_train = T.Compose([T.ToTensor(), T.Resize((64, 64), antialias=True), T.RandomHorizontalFlip(p=0.5), T.Normalize(0.5, 0.5)])\n",
        "transform_test = T.Compose([T.ToTensor(), T.Resize((64, 64), antialias=True), T.Normalize(0.5, 0.5)])"
      ],
      "metadata": {
        "id": "c-jQIYf4vFXB"
      },
      "execution_count": null,
      "outputs": []
    },
    {
      "cell_type": "code",
      "source": [
        "# Flowers 102 Dataset\n",
        "train_set = torchvision.datasets.Flowers102(root='data', split='train', transform=transform_train, download=True)\n",
        "test_set = torchvision.datasets.Flowers102(root='data', split='test', transform=transform_test, download=True)"
      ],
      "metadata": {
        "id": "0-bzY4KdrRD7",
        "colab": {
          "base_uri": "https://localhost:8080/"
        },
        "outputId": "adc0cd15-29b8-494f-9311-a75af983bcb0"
      },
      "execution_count": null,
      "outputs": [
        {
          "output_type": "stream",
          "name": "stdout",
          "text": [
            "Downloading https://thor.robots.ox.ac.uk/datasets/flowers-102/102flowers.tgz to data/flowers-102/102flowers.tgz\n"
          ]
        },
        {
          "output_type": "stream",
          "name": "stderr",
          "text": [
            "100%|██████████| 344862509/344862509 [00:29<00:00, 11556559.98it/s]\n"
          ]
        },
        {
          "output_type": "stream",
          "name": "stdout",
          "text": [
            "Extracting data/flowers-102/102flowers.tgz to data/flowers-102\n",
            "Downloading https://thor.robots.ox.ac.uk/datasets/flowers-102/imagelabels.mat to data/flowers-102/imagelabels.mat\n"
          ]
        },
        {
          "output_type": "stream",
          "name": "stderr",
          "text": [
            "100%|██████████| 502/502 [00:00<00:00, 558498.84it/s]\n"
          ]
        },
        {
          "output_type": "stream",
          "name": "stdout",
          "text": [
            "Downloading https://thor.robots.ox.ac.uk/datasets/flowers-102/setid.mat to data/flowers-102/setid.mat\n"
          ]
        },
        {
          "output_type": "stream",
          "name": "stderr",
          "text": [
            "100%|██████████| 14989/14989 [00:00<00:00, 14442550.58it/s]\n"
          ]
        }
      ]
    },
    {
      "cell_type": "code",
      "source": [
        "# Zeige das erste Trainingsbeispiel\n",
        "print('Data Sample Shape: ', train_set[0][0].shape, 'Label: ', train_set[0][1])"
      ],
      "metadata": {
        "colab": {
          "base_uri": "https://localhost:8080/"
        },
        "id": "IdYcr6FUsW5X",
        "outputId": "f9235e4c-7b01-4f05-9d82-83b7b354a6d0"
      },
      "execution_count": null,
      "outputs": [
        {
          "output_type": "stream",
          "name": "stdout",
          "text": [
            "Data Sample Shape:  torch.Size([3, 64, 64]) Label:  0\n"
          ]
        }
      ]
    },
    {
      "cell_type": "code",
      "source": [
        "# Anmerkung: PyTorch representiert die Channels eines Bildes (3 bei RGB Inputs) in der Dimension vor der Höhe und Breite (hier 64x64)\n",
        "plt.imshow(train_set[0][0].permute(1,2,0) * 0.5 + 0.5)"
      ],
      "metadata": {
        "colab": {
          "base_uri": "https://localhost:8080/",
          "height": 450
        },
        "id": "LO2Q44s0vyyf",
        "outputId": "0666149a-2395-4225-bb77-714a4a15dcac"
      },
      "execution_count": null,
      "outputs": [
        {
          "output_type": "execute_result",
          "data": {
            "text/plain": [
              "<matplotlib.image.AxesImage at 0x7f25ed1db040>"
            ]
          },
          "metadata": {},
          "execution_count": 7
        },
        {
          "output_type": "display_data",
          "data": {
            "text/plain": [
              "<Figure size 640x480 with 1 Axes>"
            ],
            "image/png": "[encoded data removed]"
          },
          "metadata": {}
        }
      ]
    },
    {
      "cell_type": "markdown",
      "source": [
        "## 2. Architektur des Neuroaneln Netzes festlegen\n",
        "\n",
        "An dieser Stelle existieren zwei Möglichkeiten: entweder wir definieren eine eigene Architektur oder wir verwenden eine vordefinierte Architektur. Beginnen wir zunächst mit einer eigenen Architektur mit 4 Convolutional Layers, einem Pooling Layer und einem Fully-Connected Layer zur Klassifikation.\n"
      ],
      "metadata": {
        "id": "y-8I_yTWs1qU"
      }
    },
    {
      "cell_type": "code",
      "source": [
        "custom_model = nn.Sequential(\n",
        "    nn.Conv2d(in_channels=3, out_channels=64, kernel_size=5, stride=2),\n",
        "    nn.ReLU(),\n",
        "    nn.Conv2d(in_channels=64, out_channels=128, kernel_size=5, stride=2),\n",
        "    nn.ReLU(),\n",
        "    nn.Conv2d(in_channels=128, out_channels=128, kernel_size=3),\n",
        "    nn.ReLU(),\n",
        "    nn.Conv2d(in_channels=128, out_channels=128, kernel_size=3),\n",
        "    nn.AdaptiveAvgPool2d(output_size=1),\n",
        "    nn.ReLU(),\n",
        "    nn.Flatten(),\n",
        "    nn.Linear(in_features=128, out_features=102)\n",
        ")"
      ],
      "metadata": {
        "id": "JsOoSZkIs05Q"
      },
      "execution_count": null,
      "outputs": []
    },
    {
      "cell_type": "markdown",
      "source": [
        "Als Alternative nehmen wir eine vordefinierte Architektur, in diesem Fall ein [ResNet-18](https://en.wikipedia.org/wiki/Residual_neural_network). Zusätzlich verwenden wir zur Initialisierung vortrainierte Gewichte. Da das Modell auf einem Datensatz mit 1000 Klassen vortrainiert wurde, müssen wir den letzten Layer zur Klassifikation anpassen bzw. ersetzen."
      ],
      "metadata": {
        "id": "FvAKrASXuKW7"
      }
    },
    {
      "cell_type": "code",
      "source": [
        "resnet18_model = torchvision.models.resnet.resnet18(pretrained=True)\n",
        "resnet18_model.fc = nn.Linear(resnet18_model.fc.in_features, 102)"
      ],
      "metadata": {
        "colab": {
          "base_uri": "https://localhost:8080/"
        },
        "id": "RINY2utAuIFU",
        "outputId": "745c3288-67d8-489c-8b82-78a2c243cf10"
      },
      "execution_count": null,
      "outputs": [
        {
          "output_type": "stream",
          "name": "stderr",
          "text": [
            "/usr/local/lib/python3.10/dist-packages/torchvision/models/_utils.py:208: UserWarning: The parameter 'pretrained' is deprecated since 0.13 and may be removed in the future, please use 'weights' instead.\n",
            "  warnings.warn(\n",
            "/usr/local/lib/python3.10/dist-packages/torchvision/models/_utils.py:223: UserWarning: Arguments other than a weight enum or `None` for 'weights' are deprecated since 0.13 and may be removed in the future. The current behavior is equivalent to passing `weights=ResNet18_Weights.IMAGENET1K_V1`. You can also use `weights=ResNet18_Weights.DEFAULT` to get the most up-to-date weights.\n",
            "  warnings.warn(msg)\n",
            "Downloading: \"https://download.pytorch.org/models/resnet18-f37072fd.pth\" to /root/.cache/torch/hub/checkpoints/resnet18-f37072fd.pth\n",
            "100%|██████████| 44.7M/44.7M [00:00<00:00, 308MB/s]\n"
          ]
        }
      ]
    },
    {
      "cell_type": "markdown",
      "source": [
        "## 3. Optimizerungsparameter festlegen\n",
        "\n",
        "Für das Training müssen folgende Parameter festgelegt werden:\n",
        "- Batch Size: Wie viele Bilder werden für jeden Optimierungsschritt verwendet?\n",
        "- Epochs: Wie viele Iterationen über die Trainingsdaten werden durchgeführt?\n",
        "- Learning Rate: Mit welcher Lernrate werden die Modellparameter aktualisiert?\n",
        "- Optimizer: Wie wird optimiert und welche Modellparameter werden optimiert?\n",
        "- Loss Function: Wie sieht unsere Optimierungsfunktion aus?"
      ],
      "metadata": {
        "id": "TueRT0bSwJm2"
      }
    },
    {
      "cell_type": "code",
      "source": [
        "batch_size=64\n",
        "epochs=3\n",
        "learning_rate=0.1\n",
        "optimizer = torch.optim.SGD(params=custom_model.parameters(), lr=learning_rate, momentum=0.9)\n",
        "loss_fkt = nn.CrossEntropyLoss()"
      ],
      "metadata": {
        "id": "AXni1qZ5uvQt"
      },
      "execution_count": null,
      "outputs": []
    },
    {
      "cell_type": "code",
      "source": [
        "# Dataloader helfen uns über die Datensets zu iterieren\n",
        "train_loader = torch.utils.data.DataLoader(train_set, batch_size=batch_size, shuffle=True)\n",
        "test_loader = torch.utils.data.DataLoader(test_set, batch_size=batch_size, shuffle=False)"
      ],
      "metadata": {
        "id": "wu2hkN_wwvUv"
      },
      "execution_count": null,
      "outputs": []
    },
    {
      "cell_type": "markdown",
      "source": [
        "## 4. Training des Custom Netzwerkes\n",
        "Entsprechend dem Vorgehen in der Vorlesung/Übung werden iterativ Trainingsbeispiele gesampled, diese in das Modell gegeben und basierend auf dem Fehler der Vorhersage die Gewichte des Netzes aktualisiert. Zunächst muss das Modell in den Trainingsmodus versetzt werden (wichtig für \"Spezial\"-Layer) und sollte auf die GPU verschoben werden, um das Training zu beschleunigen.\n",
        "\n",
        "Hinweis: Laufzeitumgebung mit verfügbarer GPU wird benötigt."
      ],
      "metadata": {
        "id": "PvdX5LEmxD3j"
      }
    },
    {
      "cell_type": "code",
      "source": [
        "custom_model.cuda()\n",
        "custom_model.train()\n",
        "for epoch in range(epochs):\n",
        "  running_loss = 0.0\n",
        "  for x, y in train_loader:\n",
        "    # Verschiebe Batch auf GPU\n",
        "    x, y = x.cuda(), y.cuda()\n",
        "\n",
        "    # Lösche vorherige Gradienten der Parameter\n",
        "    optimizer.zero_grad()\n",
        "\n",
        "    # Führe Forward Pass durch\n",
        "    outputs = custom_model(x)\n",
        "\n",
        "    # Berechne Loss\n",
        "    loss = loss_fkt(outputs, y)\n",
        "\n",
        "    # Berechne Gradienten\n",
        "    loss.backward()\n",
        "\n",
        "    # Update Modellparameter\n",
        "    optimizer.step()\n",
        "\n",
        "    # Aktualisiere Running Loss\n",
        "    running_loss += loss.cpu().item() * len(x)\n",
        "\n",
        "  # Gebe den aktuellen Loss auf der Konsole aus\n",
        "  print(f'Epoch {epoch} \\t Loss {running_loss / len(train_set):.4f}')"
      ],
      "metadata": {
        "colab": {
          "base_uri": "https://localhost:8080/"
        },
        "id": "MeiiHTI5xTTG",
        "outputId": "5b6a0ace-32aa-4fb6-ccfc-3a00fd739421"
      },
      "execution_count": null,
      "outputs": [
        {
          "output_type": "stream",
          "name": "stdout",
          "text": [
            "Epoch 0 \t Loss 4.6285\n",
            "Epoch 1 \t Loss 4.5636\n",
            "Epoch 2 \t Loss 4.4272\n"
          ]
        }
      ]
    },
    {
      "cell_type": "markdown",
      "source": [
        "## 5. Testen des trainierten Netzwerks\n",
        "Um zu überprüfen, wie gut unser Modell generalisiert hat, testen wir die Performance auf den ungesehenen Testdaten. Hierzu setzen wir das Modell in den Evaluationsmodus und verhindern zugleich die Berechnung von Gradienten, um den GPU Speicher zu schonen und die Inferenz zu beschleunigen."
      ],
      "metadata": {
        "id": "Ycizhz3P0AC3"
      }
    },
    {
      "cell_type": "code",
      "source": [
        "custom_model.cuda()\n",
        "custom_model.eval()\n",
        "\n",
        "num_correct_predictions = 0\n",
        "num_total_predictions = 0\n",
        "\n",
        "for x, y in test_loader:\n",
        "  with torch.no_grad():\n",
        "    # Verschiebe Batch auf GPU\n",
        "    x, y = x.cuda(), y.cuda()\n",
        "\n",
        "    # Führe Forward Pass durch\n",
        "    outputs = custom_model(x)\n",
        "\n",
        "    # Berechne Vorhersagen\n",
        "    y_pred = outputs.argmax(dim=1)\n",
        "\n",
        "    # Zähle korrekte Vorhersagen\n",
        "    num_correct_predictions += (y_pred == y).sum()\n",
        "    num_total_predictions += len(y)\n",
        "\n",
        "print(f'{num_correct_predictions} von {num_total_predictions} Testsamples korrekt vorhergesagt')\n",
        "print(f'Dies entspricht einer Accuracy von {num_correct_predictions/num_total_predictions:.4f}')\n",
        "print(f'Random Guessing würde einer Accuracy von {1/102:.4f} entsprechen')"
      ],
      "metadata": {
        "colab": {
          "base_uri": "https://localhost:8080/"
        },
        "id": "VxI5bihlzzHj",
        "outputId": "f357e48e-1baf-48bd-9959-a57f649d67fe"
      },
      "execution_count": null,
      "outputs": [
        {
          "output_type": "stream",
          "name": "stdout",
          "text": [
            "{num_correct_predictions} von {num_total_predictions} Testsamples korrekt vorhergesagt\n",
            "Dies entspricht einer Accuracy von 0.0185\n",
            "Random Guessing würde einer Accuracy von 0.0098 entsprechen\n"
          ]
        }
      ]
    },
    {
      "cell_type": "markdown",
      "source": [
        "## Wiederholung Schritte 3-5 mit ResNet-18\n",
        "\n",
        "Anpassung des Optimizers notwendig. Alle anderen Parameter lassen wir in diesem Fall unverändert."
      ],
      "metadata": {
        "id": "lvvmFwLL1HAR"
      }
    },
    {
      "cell_type": "code",
      "source": [
        "learning_rate = 0.1\n",
        "optimizer = torch.optim.SGD(params=resnet18_model.parameters(), lr=learning_rate)"
      ],
      "metadata": {
        "id": "Z-_cO16g1Gnr"
      },
      "execution_count": null,
      "outputs": []
    },
    {
      "cell_type": "code",
      "source": [
        "resnet18_model.cuda()\n",
        "resnet18_model.train()\n",
        "for epoch in range(epochs):\n",
        "  running_loss = 0.0\n",
        "  for x, y in train_loader:\n",
        "    # Verschiebe Batch auf GPU\n",
        "    x, y = x.cuda(), y.cuda()\n",
        "\n",
        "    # Lösche vorherige Gradienten der Parameter\n",
        "    optimizer.zero_grad()\n",
        "\n",
        "    # Führe Forward Pass durch\n",
        "    outputs = resnet18_model(x)\n",
        "\n",
        "    # Berechne Loss\n",
        "    loss = loss_fkt(outputs, y)\n",
        "\n",
        "    # Berechne Gradienten\n",
        "    loss.backward()\n",
        "\n",
        "    # Update Modellparameter\n",
        "    optimizer.step()\n",
        "\n",
        "    # Aktualisiere Running Loss\n",
        "    running_loss += loss.cpu().item() * len(x)\n",
        "\n",
        "  # Gebe den aktuellen Loss auf der Konsole aus\n",
        "  print(f'Epoch {epoch} \\t Loss {running_loss / len(train_set):.4f}')"
      ],
      "metadata": {
        "colab": {
          "base_uri": "https://localhost:8080/"
        },
        "id": "1mwTjhlP1Me1",
        "outputId": "84b11c8e-dde4-47a7-a328-914ccceb9011"
      },
      "execution_count": null,
      "outputs": [
        {
          "output_type": "stream",
          "name": "stdout",
          "text": [
            "Epoch 0 \t Loss 4.3150\n",
            "Epoch 1 \t Loss 2.1053\n",
            "Epoch 2 \t Loss 0.9530\n"
          ]
        }
      ]
    },
    {
      "cell_type": "code",
      "source": [
        "resnet18_model.cuda()\n",
        "resnet18_model.eval()\n",
        "\n",
        "num_correct_predictions = 0\n",
        "num_total_predictions = 0\n",
        "\n",
        "for x, y in test_loader:\n",
        "  with torch.no_grad():\n",
        "    # Verschiebe Batch auf GPU\n",
        "    x, y = x.cuda(), y.cuda()\n",
        "\n",
        "    # Führe Forward Pass durch\n",
        "    outputs = resnet18_model(x)\n",
        "\n",
        "    # Berechne Vorhersagen\n",
        "    y_pred = outputs.argmax(dim=1)\n",
        "\n",
        "    # Zähle korrekte Vorhersagen\n",
        "    num_correct_predictions += (y_pred == y).sum()\n",
        "    num_total_predictions += len(y)\n",
        "\n",
        "print(f'{num_correct_predictions} von {num_total_predictions} Testsamples korrekt vorhergesagt')\n",
        "print(f'Dies entspricht einer Accuracy von {num_correct_predictions/num_total_predictions:.4f}')\n",
        "print(f'Random Guessing würde einer Accuracy von {1/102:.4f} entsprechen')"
      ],
      "metadata": {
        "colab": {
          "base_uri": "https://localhost:8080/"
        },
        "id": "IGHhRqBd1fXK",
        "outputId": "e8b0acf9-0114-4949-880a-e356e50b5954"
      },
      "execution_count": null,
      "outputs": [
        {
          "output_type": "stream",
          "name": "stdout",
          "text": [
            "{num_correct_predictions} von {num_total_predictions} Testsamples korrekt vorhergesagt\n",
            "Dies entspricht einer Accuracy von 0.4085\n",
            "Random Guessing würde einer Accuracy von 0.0098 entsprechen\n"
          ]
        }
      ]
    }
  ]
}